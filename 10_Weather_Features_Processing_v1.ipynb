{
 "cells": [
  {
   "cell_type": "code",
   "execution_count": 1,
   "metadata": {},
   "outputs": [],
   "source": [
    "import pandas as pd\n",
    "import numpy as np\n",
    "import csv\n",
    "import os\n",
    "from datetime import datetime\n",
    "import seaborn as sns\n",
    "import matplotlib\n",
    "import matplotlib.pyplot as plt\n",
    "from scipy import stats"
   ]
  },
  {
   "cell_type": "code",
   "execution_count": 2,
   "metadata": {},
   "outputs": [],
   "source": [
    "#Activate the first option if whole column width is necessary and the second to make all columns visible\n",
    "#pd.set_option('display.max_colwidth', -1)\n",
    "pd.set_option('display.max_columns', 999)"
   ]
  },
  {
   "cell_type": "markdown",
   "metadata": {},
   "source": [
    "## I. Import the processed dataset"
   ]
  },
  {
   "cell_type": "code",
   "execution_count": 3,
   "metadata": {},
   "outputs": [
    {
     "name": "stdout",
     "output_type": "stream",
     "text": [
      "Index(['ASSET_ID', 'FEATURE_ID', 'SITE_CODE', 'Station',\n",
      "       'Distance_between_Features'],\n",
      "      dtype='object')\n",
      "(19611, 5)\n",
      "ASSET_ID                      object\n",
      "FEATURE_ID                    object\n",
      "SITE_CODE                      int64\n",
      "Station                       object\n",
      "Distance_between_Features    float64\n",
      "dtype: object\n"
     ]
    }
   ],
   "source": [
    "#Get the report and store it into a dataframe. Check what columns are included in the file\n",
    "report = pd.read_csv('FeatureID_WeatherData.csv')\n",
    "print(report.columns)\n",
    "print(report.shape)\n",
    "print(report.dtypes)"
   ]
  },
  {
   "cell_type": "code",
   "execution_count": 4,
   "metadata": {},
   "outputs": [
    {
     "data": {
      "text/html": [
       "<div>\n",
       "<style scoped>\n",
       "    .dataframe tbody tr th:only-of-type {\n",
       "        vertical-align: middle;\n",
       "    }\n",
       "\n",
       "    .dataframe tbody tr th {\n",
       "        vertical-align: top;\n",
       "    }\n",
       "\n",
       "    .dataframe thead th {\n",
       "        text-align: right;\n",
       "    }\n",
       "</style>\n",
       "<table border=\"1\" class=\"dataframe\">\n",
       "  <thead>\n",
       "    <tr style=\"text-align: right;\">\n",
       "      <th></th>\n",
       "      <th>ASSET_ID</th>\n",
       "      <th>FEATURE_ID</th>\n",
       "      <th>SITE_CODE</th>\n",
       "      <th>Station</th>\n",
       "      <th>Distance_between_Features</th>\n",
       "    </tr>\n",
       "  </thead>\n",
       "  <tbody>\n",
       "    <tr>\n",
       "      <td>0</td>\n",
       "      <td>HWCW506116</td>\n",
       "      <td>7U94/105</td>\n",
       "      <td>37805417</td>\n",
       "      <td>Baldock</td>\n",
       "      <td>7505.288654</td>\n",
       "    </tr>\n",
       "    <tr>\n",
       "      <td>1</td>\n",
       "      <td>HWCW506129</td>\n",
       "      <td>7U171/240</td>\n",
       "      <td>37809258</td>\n",
       "      <td>Baldock</td>\n",
       "      <td>7771.559283</td>\n",
       "    </tr>\n",
       "    <tr>\n",
       "      <td>2</td>\n",
       "      <td>HWCW506130</td>\n",
       "      <td>7U615/30</td>\n",
       "      <td>37809297</td>\n",
       "      <td>Baldock</td>\n",
       "      <td>8116.583897</td>\n",
       "    </tr>\n",
       "    <tr>\n",
       "      <td>3</td>\n",
       "      <td>HWCW506534</td>\n",
       "      <td>5U1081/30</td>\n",
       "      <td>27900451</td>\n",
       "      <td>Baldock</td>\n",
       "      <td>6171.225864</td>\n",
       "    </tr>\n",
       "    <tr>\n",
       "      <td>4</td>\n",
       "      <td>HWCW506536</td>\n",
       "      <td>5U1082/20</td>\n",
       "      <td>27900911</td>\n",
       "      <td>Baldock</td>\n",
       "      <td>6141.231656</td>\n",
       "    </tr>\n",
       "  </tbody>\n",
       "</table>\n",
       "</div>"
      ],
      "text/plain": [
       "     ASSET_ID FEATURE_ID  SITE_CODE  Station  Distance_between_Features\n",
       "0  HWCW506116   7U94/105   37805417  Baldock                7505.288654\n",
       "1  HWCW506129  7U171/240   37809258  Baldock                7771.559283\n",
       "2  HWCW506130   7U615/30   37809297  Baldock                8116.583897\n",
       "3  HWCW506534  5U1081/30   27900451  Baldock                6171.225864\n",
       "4  HWCW506536  5U1082/20   27900911  Baldock                6141.231656"
      ]
     },
     "execution_count": 4,
     "metadata": {},
     "output_type": "execute_result"
    }
   ],
   "source": [
    "report.head(5)"
   ]
  },
  {
   "cell_type": "code",
   "execution_count": 5,
   "metadata": {},
   "outputs": [
    {
     "data": {
      "text/html": [
       "<div>\n",
       "<style scoped>\n",
       "    .dataframe tbody tr th:only-of-type {\n",
       "        vertical-align: middle;\n",
       "    }\n",
       "\n",
       "    .dataframe tbody tr th {\n",
       "        vertical-align: top;\n",
       "    }\n",
       "\n",
       "    .dataframe thead th {\n",
       "        text-align: right;\n",
       "    }\n",
       "</style>\n",
       "<table border=\"1\" class=\"dataframe\">\n",
       "  <thead>\n",
       "    <tr style=\"text-align: right;\">\n",
       "      <th></th>\n",
       "      <th>SITE_CODE</th>\n",
       "      <th>Distance_between_Features</th>\n",
       "    </tr>\n",
       "  </thead>\n",
       "  <tbody>\n",
       "    <tr>\n",
       "      <td>count</td>\n",
       "      <td>1.961100e+04</td>\n",
       "      <td>19611.000000</td>\n",
       "    </tr>\n",
       "    <tr>\n",
       "      <td>mean</td>\n",
       "      <td>2.545900e+07</td>\n",
       "      <td>6628.677122</td>\n",
       "    </tr>\n",
       "    <tr>\n",
       "      <td>std</td>\n",
       "      <td>1.386683e+07</td>\n",
       "      <td>3671.699764</td>\n",
       "    </tr>\n",
       "    <tr>\n",
       "      <td>min</td>\n",
       "      <td>4.800097e+06</td>\n",
       "      <td>3.269519</td>\n",
       "    </tr>\n",
       "    <tr>\n",
       "      <td>25%</td>\n",
       "      <td>1.240616e+07</td>\n",
       "      <td>3831.316784</td>\n",
       "    </tr>\n",
       "    <tr>\n",
       "      <td>50%</td>\n",
       "      <td>2.790941e+07</td>\n",
       "      <td>6342.204502</td>\n",
       "    </tr>\n",
       "    <tr>\n",
       "      <td>75%</td>\n",
       "      <td>3.781266e+07</td>\n",
       "      <td>8746.198393</td>\n",
       "    </tr>\n",
       "    <tr>\n",
       "      <td>max</td>\n",
       "      <td>9.991020e+07</td>\n",
       "      <td>17917.264470</td>\n",
       "    </tr>\n",
       "  </tbody>\n",
       "</table>\n",
       "</div>"
      ],
      "text/plain": [
       "          SITE_CODE  Distance_between_Features\n",
       "count  1.961100e+04               19611.000000\n",
       "mean   2.545900e+07                6628.677122\n",
       "std    1.386683e+07                3671.699764\n",
       "min    4.800097e+06                   3.269519\n",
       "25%    1.240616e+07                3831.316784\n",
       "50%    2.790941e+07                6342.204502\n",
       "75%    3.781266e+07                8746.198393\n",
       "max    9.991020e+07               17917.264470"
      ]
     },
     "execution_count": 5,
     "metadata": {},
     "output_type": "execute_result"
    }
   ],
   "source": [
    "report.describe()"
   ]
  },
  {
   "cell_type": "code",
   "execution_count": 17,
   "metadata": {},
   "outputs": [
    {
     "data": {
      "image/png": "[encoded data removed]",
      "text/plain": [
       "<Figure size 1080x288 with 1 Axes>"
      ]
     },
     "metadata": {
      "needs_background": "light"
     },
     "output_type": "display_data"
    }
   ],
   "source": [
    "#Plot the average distance to the closest weather station\n",
    "out, bins = pd.cut(report['Distance_between_Features'], bins=10, retbins = True)\n",
    "out.value_counts().reindex(out.cat.categories)\n",
    "ax = out.value_counts(sort=False).plot.bar(rot=0, color=\"b\", figsize=(15,4))\n",
    "ax.set_title('Distance_between_Features')\n",
    "ax.set_xticklabels(out.value_counts().reindex(out.cat.categories).index, rotation=45)\n",
    "plt.show()\n"
   ]
  },
  {
   "cell_type": "code",
   "execution_count": 18,
   "metadata": {},
   "outputs": [
    {
     "data": {
      "text/plain": [
       "array([-1.46444764e+01,  1.79466901e+03,  3.58606851e+03,  5.37746800e+03,\n",
       "        7.16886750e+03,  8.96026699e+03,  1.07516665e+04,  1.25430660e+04,\n",
       "        1.43344655e+04,  1.61258650e+04,  1.79172645e+04])"
      ]
     },
     "execution_count": 18,
     "metadata": {},
     "output_type": "execute_result"
    }
   ],
   "source": [
    "#Print the bin limits\n",
    "bins"
   ]
  },
  {
   "cell_type": "code",
   "execution_count": 9,
   "metadata": {},
   "outputs": [
    {
     "data": {
      "text/plain": [
       "(-14.644, 1794.669]       1581\n",
       "(1794.669, 3586.069]      2810\n",
       "(3586.069, 5377.468]      3691\n",
       "(5377.468, 7168.867]      3500\n",
       "(7168.867, 8960.267]      3449\n",
       "(8960.267, 10751.666]     1623\n",
       "(10751.666, 12543.066]    1361\n",
       "(12543.066, 14334.465]    1043\n",
       "(14334.465, 16125.865]     375\n",
       "(16125.865, 17917.264]     178\n",
       "Name: Distance_between_Features, dtype: int64"
      ]
     },
     "execution_count": 9,
     "metadata": {},
     "output_type": "execute_result"
    }
   ],
   "source": [
    "out = pd.cut(report['Distance_between_Features'], bins=10)\n",
    "out.value_counts().reindex(out.cat.categories)"
   ]
  },
  {
   "cell_type": "code",
   "execution_count": 20,
   "metadata": {},
   "outputs": [
    {
     "data": {
      "text/plain": [
       "Stapleford               5175\n",
       "High Cross               5093\n",
       "Maylands                 3272\n",
       "Baldock                  1922\n",
       "Offley Road              1562\n",
       "Bish Stortford Bypass    1093\n",
       "Cow Roast                 752\n",
       "Hay Street                571\n",
       "Lilley                    171\n",
       "Name: Station, dtype: int64"
      ]
     },
     "execution_count": 20,
     "metadata": {},
     "output_type": "execute_result"
    }
   ],
   "source": [
    "report['Station'].value_counts()"
   ]
  },
  {
   "cell_type": "code",
   "execution_count": null,
   "metadata": {},
   "outputs": [],
   "source": []
  }
 ],
 "metadata": {
  "kernelspec": {
   "display_name": "Python 3",
   "language": "python",
   "name": "python3"
  },
  "language_info": {
   "codemirror_mode": {
    "name": "ipython",
    "version": 3
   },
   "file_extension": ".py",
   "mimetype": "text/x-python",
   "name": "python",
   "nbconvert_exporter": "python",
   "pygments_lexer": "ipython3",
   "version": "3.7.4"
  }
 },
 "nbformat": 4,
 "nbformat_minor": 2
}
