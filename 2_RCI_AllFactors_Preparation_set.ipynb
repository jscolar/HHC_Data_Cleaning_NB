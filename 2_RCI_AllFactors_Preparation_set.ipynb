{
 "cells": [
  {
   "cell_type": "code",
   "execution_count": 1,
   "metadata": {},
   "outputs": [],
   "source": [
    "import pandas as pd\n",
    "import numpy as np\n",
    "import csv\n",
    "import os\n",
    "from datetime import datetime\n",
    "import matplotlib.pyplot as plt\n",
    "import random\n",
    "import seaborn as sns"
   ]
  },
  {
   "cell_type": "code",
   "execution_count": 2,
   "metadata": {},
   "outputs": [],
   "source": [
    "#Activate the first option if whole column width is necessary and the second to make all columns visible\n",
    "#pd.set_option('display.max_colwidth', -1)\n",
    "pd.set_option('display.max_columns', 999)\n",
    "pd.set_option('display.max_rows', 999)"
   ]
  },
  {
   "cell_type": "markdown",
   "metadata": {},
   "source": [
    "## I. Import the transformed datasets"
   ]
  },
  {
   "cell_type": "code",
   "execution_count": 3,
   "metadata": {},
   "outputs": [
    {
     "name": "stdout",
     "output_type": "stream",
     "text": [
      "Index(['feature_id', 'survey_feat_end', 'xsp_name', 'mean', 'mean.1', 'mean.2',\n",
      "       'mean.3', 'mean.4', 'mean.5', 'mean.6', 'mean.7', 'mean.8', 'mean.9',\n",
      "       'mean.10', 'mean.11', 'mean.12', 'mean.13', 'mean.14', 'max', 'max.1',\n",
      "       'max.2', 'max.3', 'max.4', 'max.5', 'max.6', 'max.7', 'max.8', 'max.9',\n",
      "       'max.10', 'max.11', 'max.12', 'max.13', 'max.14', 'std', 'std.1',\n",
      "       'std.2', 'std.3', 'std.4', 'std.5', 'std.6', 'std.7', 'std.8', 'std.9',\n",
      "       'std.10', 'std.11', 'std.12', 'std.13', 'std.14'],\n",
      "      dtype='object')\n",
      "Index(['Unnamed: 0', 'feature_id', 'FinancialY', 'sub_obs_val_max',\n",
      "       'sub_obs_val_std', 'Carriageway Scheme', 'Drainage', 'Drainage CAT 2',\n",
      "       'Localised Patching', 'Long Term Structural Maintenance',\n",
      "       'Major Patching', 'Microasphalt', 'Reconstruction', 'Recycling',\n",
      "       'Super Cat 2', 'Surface Dressing', 'Surface Inlay', 'Surface Overlay',\n",
      "       'Surface Preservative', 'Thin Surfacing', 'Years_since', 'CCD1', 'CCD3',\n",
      "       'CCD4', 'CFL', 'CFS1', 'CKD2', 'CKD3', 'CMD3', 'CMUD', 'CPH2', 'CPH3',\n",
      "       'CPH4', 'CPH7', 'CSH1', 'DCF1', 'DCF2', 'DCF3', 'DPD1', 'DPD2', 'GUL',\n",
      "       'NZU', 'PDAM', 'RICE', 'SFL', 'SPL', 'SPLE', 'Prev_RCI', 'SURF', 'BEDR',\n",
      "       'Month', 'hierarchy', 'distance', 'road_type_hw', 'urban_rural',\n",
      "       'surf_type', 'width', 'sub_obs_val_avg', 'weighted_av', 'perc85'],\n",
      "      dtype='object')\n"
     ]
    }
   ],
   "source": [
    "#Get the three reports and store them into dataframes. Check what columns are included in the file\n",
    "consolidate = pd.read_csv('rci_allfactors_consolidated.csv', index_col = 0)\n",
    "base = pd.read_csv('Det_curve_set2.csv')\n",
    "\n",
    "print(consolidate.columns)\n",
    "print(base.columns)"
   ]
  },
  {
   "cell_type": "markdown",
   "metadata": {},
   "source": [
    "### I. Cleaning the Consolidated set "
   ]
  },
  {
   "cell_type": "code",
   "execution_count": 4,
   "metadata": {},
   "outputs": [],
   "source": [
    "#Keep only Med columns\n",
    "consolidate.drop(columns=['max', 'max.1', 'max.2', 'max.3', 'max.4', 'max.5',\n",
    "       'max.6', 'max.7', 'max.8', 'max.9', 'max.10', 'max.11', 'max.12',\n",
    "       'max.13', 'max.14', 'std', 'std.1', 'std.2', 'std.3', 'std.4', 'std.5',\n",
    "       'std.6', 'std.7', 'std.8', 'std.9', 'std.10', 'std.11', 'std.12',\n",
    "       'std.13', 'std.14'], inplace = True)"
   ]
  },
  {
   "cell_type": "code",
   "execution_count": 7,
   "metadata": {},
   "outputs": [
    {
     "data": {
      "text/plain": [
       "Index(['feature_id', 'survey_feat_end', 'xsp_name', 'mean', 'mean.1', 'mean.2',\n",
       "       'mean.3', 'mean.4', 'mean.5', 'mean.6', 'mean.7', 'mean.8', 'mean.9',\n",
       "       'mean.10', 'mean.11', 'mean.12', 'mean.13', 'mean.14'],\n",
       "      dtype='object')"
      ]
     },
     "execution_count": 7,
     "metadata": {},
     "output_type": "execute_result"
    }
   ],
   "source": [
    "consolidate.columns"
   ]
  },
  {
   "cell_type": "code",
   "execution_count": 8,
   "metadata": {},
   "outputs": [],
   "source": [
    "#Edit columns and clean rows that match the header:\n",
    "consolidate.columns = ['feature_id', 'survey_feat_end', 'xsp_name','LCRV', 'LCTM', 'LEDR','LFAL', 'LGRD',\n",
    "                       'LLRT', 'LLTD', 'LLTM','LLTX', 'LRRT', 'LRTM', 'LRTC','LRTV', 'LV10','LV3']\n",
    "consolidate = consolidate.loc[consolidate['feature_id'] !='feature_id']\n",
    "consolidate = consolidate.loc[~consolidate['feature_id'].isnull()]"
   ]
  },
  {
   "cell_type": "code",
   "execution_count": 9,
   "metadata": {},
   "outputs": [],
   "source": [
    "#Replace Feature IDs that contain UKP \n",
    "consolidate.reset_index(drop = True, inplace = True)"
   ]
  },
  {
   "cell_type": "code",
   "execution_count": 10,
   "metadata": {},
   "outputs": [],
   "source": [
    "#Remove \"UKP/\" from the Feature ID\n",
    "consolidate['feature_id'] = consolidate['feature_id'].map(lambda x: x.lstrip('UKP_'))\n",
    "consolidate['feature_id'] = consolidate['feature_id'].map(lambda x: x.lstrip('UKP/'))\n",
    "consolidate['feature_id'] = consolidate['feature_id'].map(lambda x: x.replace('_','/'))"
   ]
  },
  {
   "cell_type": "code",
   "execution_count": 11,
   "metadata": {},
   "outputs": [],
   "source": [
    "#Extract the Financial Year from the Survey Feature End\n",
    "consolidate['FinancialY'] = pd.to_datetime(consolidate.survey_feat_end).dt.to_period('A-MAR')"
   ]
  },
  {
   "cell_type": "code",
   "execution_count": 12,
   "metadata": {},
   "outputs": [],
   "source": [
    "consolidate.to_csv(r'C:\\Users\\J FernandezGomez\\Jupyter Notebooks\\7_SecondPhase\\RCI_Scanner\\factors_clean.csv')"
   ]
  }
 ],
 "metadata": {
  "kernelspec": {
   "display_name": "Python 3",
   "language": "python",
   "name": "python3"
  },
  "language_info": {
   "codemirror_mode": {
    "name": "ipython",
    "version": 3
   },
   "file_extension": ".py",
   "mimetype": "text/x-python",
   "name": "python",
   "nbconvert_exporter": "python",
   "pygments_lexer": "ipython3",
   "version": "3.7.4"
  }
 },
 "nbformat": 4,
 "nbformat_minor": 2
}
