{
 "cells": [
  {
   "cell_type": "code",
   "execution_count": 28,
   "metadata": {},
   "outputs": [],
   "source": [
    "import pandas as pd\n",
    "import numpy as np\n",
    "import csv\n",
    "import os\n",
    "from datetime import datetime\n",
    "from scipy import stats\n",
    "from sklearn.model_selection import train_test_split\n",
    "from sklearn.metrics import mean_squared_error\n",
    "from sklearn.ensemble import GradientBoostingRegressor\n",
    "from math import sqrt\n",
    "import matplotlib.pyplot as plt\n",
    "import seaborn as sns"
   ]
  },
  {
   "cell_type": "code",
   "execution_count": 2,
   "metadata": {},
   "outputs": [],
   "source": [
    "#Activate the first option if whole column width is necessary and the second to make all columns visible\n",
    "#pd.set_option('display.max_colwidth', -1)\n",
    "pd.set_option('display.max_columns', 999)\n",
    "pd.set_option('display.max_rows', 999)"
   ]
  },
  {
   "cell_type": "markdown",
   "metadata": {},
   "source": [
    "## I. Import the transformed datasets"
   ]
  },
  {
   "cell_type": "code",
   "execution_count": 6,
   "metadata": {},
   "outputs": [
    {
     "name": "stdout",
     "output_type": "stream",
     "text": [
      "Index(['feature_id', 'FinancialY', 'lane', 'avg_score_lane', 'sub_obs_val_max',\n",
      "       'sub_obs_val_std'],\n",
      "      dtype='object')\n",
      "Index(['feature_id', 'survey_feat_end', 'xsp_name', 'LCRV', 'LCTM', 'LEDR',\n",
      "       'LFAL', 'LGRD', 'LLRT', 'LLTD', 'LLTM', 'LLTX', 'LRRT', 'LRTM', 'LRTC',\n",
      "       'LRTV', 'LV10', 'LV3', 'FinancialY'],\n",
      "      dtype='object')\n",
      "(26766, 6)\n",
      "(32572, 19)\n"
     ]
    }
   ],
   "source": [
    "#Import the raw RCI score\n",
    "rci = pd.read_csv('rci_aggegated.csv', index_col = 0)\n",
    "base = pd.read_csv('factors_clean.csv', index_col = 0)\n",
    "print(rci.columns)\n",
    "print(base.columns)\n",
    "print(rci.shape)\n",
    "print(base.shape)"
   ]
  },
  {
   "cell_type": "markdown",
   "metadata": {},
   "source": [
    "### I. Dataset formatting"
   ]
  },
  {
   "cell_type": "code",
   "execution_count": 7,
   "metadata": {},
   "outputs": [
    {
     "data": {
      "text/html": [
       "<div>\n",
       "<style scoped>\n",
       "    .dataframe tbody tr th:only-of-type {\n",
       "        vertical-align: middle;\n",
       "    }\n",
       "\n",
       "    .dataframe tbody tr th {\n",
       "        vertical-align: top;\n",
       "    }\n",
       "\n",
       "    .dataframe thead th {\n",
       "        text-align: right;\n",
       "    }\n",
       "</style>\n",
       "<table border=\"1\" class=\"dataframe\">\n",
       "  <thead>\n",
       "    <tr style=\"text-align: right;\">\n",
       "      <th></th>\n",
       "      <th>feature_id</th>\n",
       "      <th>FinancialY</th>\n",
       "      <th>lane</th>\n",
       "      <th>avg_score_lane</th>\n",
       "      <th>sub_obs_val_max</th>\n",
       "      <th>sub_obs_val_std</th>\n",
       "    </tr>\n",
       "  </thead>\n",
       "  <tbody>\n",
       "    <tr>\n",
       "      <td>0</td>\n",
       "      <td>A10/104</td>\n",
       "      <td>2009</td>\n",
       "      <td>LEFT</td>\n",
       "      <td>3.940571</td>\n",
       "      <td>33.86</td>\n",
       "      <td>9.027565</td>\n",
       "    </tr>\n",
       "    <tr>\n",
       "      <td>1</td>\n",
       "      <td>A10/104</td>\n",
       "      <td>2009</td>\n",
       "      <td>RIGHT</td>\n",
       "      <td>8.481471</td>\n",
       "      <td>77.92</td>\n",
       "      <td>19.711916</td>\n",
       "    </tr>\n",
       "    <tr>\n",
       "      <td>2</td>\n",
       "      <td>A10/104</td>\n",
       "      <td>2010</td>\n",
       "      <td>LEFT</td>\n",
       "      <td>7.363529</td>\n",
       "      <td>80.00</td>\n",
       "      <td>15.936653</td>\n",
       "    </tr>\n",
       "    <tr>\n",
       "      <td>3</td>\n",
       "      <td>A10/104</td>\n",
       "      <td>2010</td>\n",
       "      <td>RIGHT</td>\n",
       "      <td>17.661429</td>\n",
       "      <td>96.67</td>\n",
       "      <td>27.412318</td>\n",
       "    </tr>\n",
       "    <tr>\n",
       "      <td>4</td>\n",
       "      <td>A10/104</td>\n",
       "      <td>2011</td>\n",
       "      <td>LEFT</td>\n",
       "      <td>2.392424</td>\n",
       "      <td>52.79</td>\n",
       "      <td>9.425704</td>\n",
       "    </tr>\n",
       "  </tbody>\n",
       "</table>\n",
       "</div>"
      ],
      "text/plain": [
       "  feature_id  FinancialY   lane  avg_score_lane  sub_obs_val_max  \\\n",
       "0    A10/104        2009   LEFT        3.940571            33.86   \n",
       "1    A10/104        2009  RIGHT        8.481471            77.92   \n",
       "2    A10/104        2010   LEFT        7.363529            80.00   \n",
       "3    A10/104        2010  RIGHT       17.661429            96.67   \n",
       "4    A10/104        2011   LEFT        2.392424            52.79   \n",
       "\n",
       "   sub_obs_val_std  \n",
       "0         9.027565  \n",
       "1        19.711916  \n",
       "2        15.936653  \n",
       "3        27.412318  \n",
       "4         9.425704  "
      ]
     },
     "execution_count": 7,
     "metadata": {},
     "output_type": "execute_result"
    }
   ],
   "source": [
    "#From the Raw set, separate per feature, financial year and lane\n",
    "rci.head(5)"
   ]
  },
  {
   "cell_type": "code",
   "execution_count": 14,
   "metadata": {},
   "outputs": [
    {
     "data": {
      "text/html": [
       "<div>\n",
       "<style scoped>\n",
       "    .dataframe tbody tr th:only-of-type {\n",
       "        vertical-align: middle;\n",
       "    }\n",
       "\n",
       "    .dataframe tbody tr th {\n",
       "        vertical-align: top;\n",
       "    }\n",
       "\n",
       "    .dataframe thead th {\n",
       "        text-align: right;\n",
       "    }\n",
       "</style>\n",
       "<table border=\"1\" class=\"dataframe\">\n",
       "  <thead>\n",
       "    <tr style=\"text-align: right;\">\n",
       "      <th></th>\n",
       "      <th>feature_id</th>\n",
       "      <th>survey_feat_end</th>\n",
       "      <th>lane</th>\n",
       "      <th>LCRV</th>\n",
       "      <th>LCTM</th>\n",
       "      <th>LEDR</th>\n",
       "      <th>LFAL</th>\n",
       "      <th>LGRD</th>\n",
       "      <th>LLRT</th>\n",
       "      <th>LLTD</th>\n",
       "      <th>LLTM</th>\n",
       "      <th>LLTX</th>\n",
       "      <th>LRRT</th>\n",
       "      <th>LRTM</th>\n",
       "      <th>LRTC</th>\n",
       "      <th>LRTV</th>\n",
       "      <th>LV10</th>\n",
       "      <th>LV3</th>\n",
       "      <th>FinancialY</th>\n",
       "    </tr>\n",
       "  </thead>\n",
       "  <tbody>\n",
       "    <tr>\n",
       "      <td>0</td>\n",
       "      <td>B5378/998</td>\n",
       "      <td>2008-09-20 23:59:59.000</td>\n",
       "      <td>RIGHT</td>\n",
       "      <td>90.164187</td>\n",
       "      <td>0.488438</td>\n",
       "      <td>0.051931</td>\n",
       "      <td>2.991250</td>\n",
       "      <td>-0.217500</td>\n",
       "      <td>5.925786</td>\n",
       "      <td>0.773813</td>\n",
       "      <td>0.526125</td>\n",
       "      <td>0.645937</td>\n",
       "      <td>4.454088</td>\n",
       "      <td>0.439000</td>\n",
       "      <td>0.136875</td>\n",
       "      <td>11.469500</td>\n",
       "      <td>33.335625</td>\n",
       "      <td>4.881812</td>\n",
       "      <td>2009</td>\n",
       "    </tr>\n",
       "    <tr>\n",
       "      <td>1</td>\n",
       "      <td>B5378/999</td>\n",
       "      <td>2008-09-20 23:59:59.000</td>\n",
       "      <td>RIGHT</td>\n",
       "      <td>133.517243</td>\n",
       "      <td>0.624522</td>\n",
       "      <td>0.078393</td>\n",
       "      <td>2.980882</td>\n",
       "      <td>-1.488603</td>\n",
       "      <td>6.820000</td>\n",
       "      <td>1.040074</td>\n",
       "      <td>0.729007</td>\n",
       "      <td>0.870662</td>\n",
       "      <td>6.284444</td>\n",
       "      <td>0.656103</td>\n",
       "      <td>0.278676</td>\n",
       "      <td>8.292316</td>\n",
       "      <td>34.846287</td>\n",
       "      <td>4.729485</td>\n",
       "      <td>2009</td>\n",
       "    </tr>\n",
       "    <tr>\n",
       "      <td>2</td>\n",
       "      <td>B5378/ALL</td>\n",
       "      <td>2008-09-20 23:59:59.000</td>\n",
       "      <td>RIGHT</td>\n",
       "      <td>70.567493</td>\n",
       "      <td>0.649280</td>\n",
       "      <td>0.068850</td>\n",
       "      <td>2.340634</td>\n",
       "      <td>-1.276945</td>\n",
       "      <td>6.195362</td>\n",
       "      <td>1.018876</td>\n",
       "      <td>0.740317</td>\n",
       "      <td>0.878790</td>\n",
       "      <td>5.738551</td>\n",
       "      <td>0.677089</td>\n",
       "      <td>0.258501</td>\n",
       "      <td>11.571902</td>\n",
       "      <td>32.853141</td>\n",
       "      <td>4.187176</td>\n",
       "      <td>2009</td>\n",
       "    </tr>\n",
       "    <tr>\n",
       "      <td>3</td>\n",
       "      <td>C105/20</td>\n",
       "      <td>2008-09-30 23:59:59.000</td>\n",
       "      <td>LEFT</td>\n",
       "      <td>-61.629843</td>\n",
       "      <td>0.785197</td>\n",
       "      <td>0.055858</td>\n",
       "      <td>1.403150</td>\n",
       "      <td>1.040945</td>\n",
       "      <td>6.126772</td>\n",
       "      <td>0.558504</td>\n",
       "      <td>0.618583</td>\n",
       "      <td>0.776404</td>\n",
       "      <td>4.986614</td>\n",
       "      <td>0.872441</td>\n",
       "      <td>0.570079</td>\n",
       "      <td>13.521732</td>\n",
       "      <td>27.395333</td>\n",
       "      <td>3.462441</td>\n",
       "      <td>2009</td>\n",
       "    </tr>\n",
       "    <tr>\n",
       "      <td>4</td>\n",
       "      <td>C96/60</td>\n",
       "      <td>2008-09-27 23:59:59.000</td>\n",
       "      <td>LEFT</td>\n",
       "      <td>-73.783689</td>\n",
       "      <td>0.578932</td>\n",
       "      <td>0.071103</td>\n",
       "      <td>-0.215534</td>\n",
       "      <td>2.331068</td>\n",
       "      <td>10.207447</td>\n",
       "      <td>1.141456</td>\n",
       "      <td>0.649126</td>\n",
       "      <td>0.794369</td>\n",
       "      <td>7.683158</td>\n",
       "      <td>0.934466</td>\n",
       "      <td>0.087379</td>\n",
       "      <td>13.825258</td>\n",
       "      <td>51.326505</td>\n",
       "      <td>5.863495</td>\n",
       "      <td>2009</td>\n",
       "    </tr>\n",
       "  </tbody>\n",
       "</table>\n",
       "</div>"
      ],
      "text/plain": [
       "  feature_id          survey_feat_end   lane        LCRV      LCTM      LEDR  \\\n",
       "0  B5378/998  2008-09-20 23:59:59.000  RIGHT   90.164187  0.488438  0.051931   \n",
       "1  B5378/999  2008-09-20 23:59:59.000  RIGHT  133.517243  0.624522  0.078393   \n",
       "2  B5378/ALL  2008-09-20 23:59:59.000  RIGHT   70.567493  0.649280  0.068850   \n",
       "3    C105/20  2008-09-30 23:59:59.000   LEFT  -61.629843  0.785197  0.055858   \n",
       "4     C96/60  2008-09-27 23:59:59.000   LEFT  -73.783689  0.578932  0.071103   \n",
       "\n",
       "       LFAL      LGRD       LLRT      LLTD      LLTM      LLTX      LRRT  \\\n",
       "0  2.991250 -0.217500   5.925786  0.773813  0.526125  0.645937  4.454088   \n",
       "1  2.980882 -1.488603   6.820000  1.040074  0.729007  0.870662  6.284444   \n",
       "2  2.340634 -1.276945   6.195362  1.018876  0.740317  0.878790  5.738551   \n",
       "3  1.403150  1.040945   6.126772  0.558504  0.618583  0.776404  4.986614   \n",
       "4 -0.215534  2.331068  10.207447  1.141456  0.649126  0.794369  7.683158   \n",
       "\n",
       "       LRTM      LRTC       LRTV       LV10       LV3  FinancialY  \n",
       "0  0.439000  0.136875  11.469500  33.335625  4.881812        2009  \n",
       "1  0.656103  0.278676   8.292316  34.846287  4.729485        2009  \n",
       "2  0.677089  0.258501  11.571902  32.853141  4.187176        2009  \n",
       "3  0.872441  0.570079  13.521732  27.395333  3.462441        2009  \n",
       "4  0.934466  0.087379  13.825258  51.326505  5.863495        2009  "
      ]
     },
     "execution_count": 14,
     "metadata": {},
     "output_type": "execute_result"
    }
   ],
   "source": [
    "base.head(5)"
   ]
  },
  {
   "cell_type": "code",
   "execution_count": 9,
   "metadata": {},
   "outputs": [],
   "source": [
    "base.loc[(base.xsp_name.str.contains('Left')),'xsp_name']='LEFT'\n",
    "base.loc[(base.xsp_name.str.contains('Right')),'xsp_name']='RIGHT'"
   ]
  },
  {
   "cell_type": "code",
   "execution_count": 13,
   "metadata": {},
   "outputs": [],
   "source": [
    "base.rename(columns = {'xsp_name':'lane'}, inplace = True)"
   ]
  },
  {
   "cell_type": "markdown",
   "metadata": {},
   "source": [
    "#### II. Merge sets"
   ]
  },
  {
   "cell_type": "code",
   "execution_count": 15,
   "metadata": {},
   "outputs": [],
   "source": [
    "#Add the RCI factors to the general set:\n",
    "df = rci.merge(base,'left',on=['feature_id', 'FinancialY', 'lane'],left_index = True)\n",
    "df.reset_index(drop= True, inplace = True)"
   ]
  },
  {
   "cell_type": "code",
   "execution_count": 18,
   "metadata": {},
   "outputs": [
    {
     "data": {
      "text/plain": [
       "(27158, 22)"
      ]
     },
     "execution_count": 18,
     "metadata": {},
     "output_type": "execute_result"
    }
   ],
   "source": [
    "df.shape"
   ]
  },
  {
   "cell_type": "code",
   "execution_count": 16,
   "metadata": {},
   "outputs": [
    {
     "data": {
      "text/html": [
       "<div>\n",
       "<style scoped>\n",
       "    .dataframe tbody tr th:only-of-type {\n",
       "        vertical-align: middle;\n",
       "    }\n",
       "\n",
       "    .dataframe tbody tr th {\n",
       "        vertical-align: top;\n",
       "    }\n",
       "\n",
       "    .dataframe thead th {\n",
       "        text-align: right;\n",
       "    }\n",
       "</style>\n",
       "<table border=\"1\" class=\"dataframe\">\n",
       "  <thead>\n",
       "    <tr style=\"text-align: right;\">\n",
       "      <th></th>\n",
       "      <th>feature_id</th>\n",
       "      <th>FinancialY</th>\n",
       "      <th>lane</th>\n",
       "      <th>avg_score_lane</th>\n",
       "      <th>sub_obs_val_max</th>\n",
       "      <th>sub_obs_val_std</th>\n",
       "      <th>survey_feat_end</th>\n",
       "      <th>LCRV</th>\n",
       "      <th>LCTM</th>\n",
       "      <th>LEDR</th>\n",
       "      <th>LFAL</th>\n",
       "      <th>LGRD</th>\n",
       "      <th>LLRT</th>\n",
       "      <th>LLTD</th>\n",
       "      <th>LLTM</th>\n",
       "      <th>LLTX</th>\n",
       "      <th>LRRT</th>\n",
       "      <th>LRTM</th>\n",
       "      <th>LRTC</th>\n",
       "      <th>LRTV</th>\n",
       "      <th>LV10</th>\n",
       "      <th>LV3</th>\n",
       "    </tr>\n",
       "  </thead>\n",
       "  <tbody>\n",
       "    <tr>\n",
       "      <td>0</td>\n",
       "      <td>A10/104</td>\n",
       "      <td>2009</td>\n",
       "      <td>LEFT</td>\n",
       "      <td>3.940571</td>\n",
       "      <td>33.86</td>\n",
       "      <td>9.027565</td>\n",
       "      <td>2008-09-15 23:59:59.000</td>\n",
       "      <td>594.904000</td>\n",
       "      <td>0.786571</td>\n",
       "      <td>0.009971</td>\n",
       "      <td>2.477143</td>\n",
       "      <td>1.411429</td>\n",
       "      <td>4.000000</td>\n",
       "      <td>0.884286</td>\n",
       "      <td>0.820000</td>\n",
       "      <td>0.935429</td>\n",
       "      <td>2.554286</td>\n",
       "      <td>0.812286</td>\n",
       "      <td>0.011429</td>\n",
       "      <td>4.410000</td>\n",
       "      <td>12.122286</td>\n",
       "      <td>0.951429</td>\n",
       "    </tr>\n",
       "    <tr>\n",
       "      <td>1</td>\n",
       "      <td>A10/104</td>\n",
       "      <td>2009</td>\n",
       "      <td>RIGHT</td>\n",
       "      <td>8.481471</td>\n",
       "      <td>77.92</td>\n",
       "      <td>19.711916</td>\n",
       "      <td>2008-09-15 23:59:59.000</td>\n",
       "      <td>278.137353</td>\n",
       "      <td>0.728529</td>\n",
       "      <td>0.008676</td>\n",
       "      <td>1.135294</td>\n",
       "      <td>-1.694118</td>\n",
       "      <td>3.155882</td>\n",
       "      <td>0.706765</td>\n",
       "      <td>0.633235</td>\n",
       "      <td>0.715882</td>\n",
       "      <td>3.972727</td>\n",
       "      <td>0.681471</td>\n",
       "      <td>0.017647</td>\n",
       "      <td>14.397353</td>\n",
       "      <td>19.884118</td>\n",
       "      <td>0.727059</td>\n",
       "    </tr>\n",
       "    <tr>\n",
       "      <td>2</td>\n",
       "      <td>A10/104</td>\n",
       "      <td>2010</td>\n",
       "      <td>LEFT</td>\n",
       "      <td>7.363529</td>\n",
       "      <td>80.00</td>\n",
       "      <td>15.936653</td>\n",
       "      <td>2009-11-18 00:00:00.000</td>\n",
       "      <td>191.450000</td>\n",
       "      <td>0.777059</td>\n",
       "      <td>0.008412</td>\n",
       "      <td>1.582353</td>\n",
       "      <td>1.505882</td>\n",
       "      <td>4.055882</td>\n",
       "      <td>1.054412</td>\n",
       "      <td>0.846765</td>\n",
       "      <td>1.039412</td>\n",
       "      <td>2.097059</td>\n",
       "      <td>0.771765</td>\n",
       "      <td>0.097059</td>\n",
       "      <td>1.508824</td>\n",
       "      <td>11.829412</td>\n",
       "      <td>1.635294</td>\n",
       "    </tr>\n",
       "    <tr>\n",
       "      <td>3</td>\n",
       "      <td>A10/104</td>\n",
       "      <td>2010</td>\n",
       "      <td>RIGHT</td>\n",
       "      <td>17.661429</td>\n",
       "      <td>96.67</td>\n",
       "      <td>27.412318</td>\n",
       "      <td>2009-11-18 00:00:00.000</td>\n",
       "      <td>457.924286</td>\n",
       "      <td>0.686061</td>\n",
       "      <td>0.014657</td>\n",
       "      <td>1.234286</td>\n",
       "      <td>-2.011429</td>\n",
       "      <td>2.620000</td>\n",
       "      <td>0.787576</td>\n",
       "      <td>0.678182</td>\n",
       "      <td>0.736000</td>\n",
       "      <td>3.957143</td>\n",
       "      <td>0.805455</td>\n",
       "      <td>0.062857</td>\n",
       "      <td>1.505429</td>\n",
       "      <td>45.800000</td>\n",
       "      <td>1.896970</td>\n",
       "    </tr>\n",
       "    <tr>\n",
       "      <td>4</td>\n",
       "      <td>A10/104</td>\n",
       "      <td>2011</td>\n",
       "      <td>LEFT</td>\n",
       "      <td>2.392424</td>\n",
       "      <td>52.79</td>\n",
       "      <td>9.425704</td>\n",
       "      <td>2010-10-13 10:11:00.000</td>\n",
       "      <td>149.567576</td>\n",
       "      <td>0.824242</td>\n",
       "      <td>0.012030</td>\n",
       "      <td>2.693939</td>\n",
       "      <td>1.645455</td>\n",
       "      <td>4.000000</td>\n",
       "      <td>0.904545</td>\n",
       "      <td>0.773636</td>\n",
       "      <td>0.923030</td>\n",
       "      <td>3.103030</td>\n",
       "      <td>0.755455</td>\n",
       "      <td>0.024242</td>\n",
       "      <td>2.436970</td>\n",
       "      <td>10.013636</td>\n",
       "      <td>0.770909</td>\n",
       "    </tr>\n",
       "  </tbody>\n",
       "</table>\n",
       "</div>"
      ],
      "text/plain": [
       "  feature_id  FinancialY   lane  avg_score_lane  sub_obs_val_max  \\\n",
       "0    A10/104        2009   LEFT        3.940571            33.86   \n",
       "1    A10/104        2009  RIGHT        8.481471            77.92   \n",
       "2    A10/104        2010   LEFT        7.363529            80.00   \n",
       "3    A10/104        2010  RIGHT       17.661429            96.67   \n",
       "4    A10/104        2011   LEFT        2.392424            52.79   \n",
       "\n",
       "   sub_obs_val_std          survey_feat_end        LCRV      LCTM      LEDR  \\\n",
       "0         9.027565  2008-09-15 23:59:59.000  594.904000  0.786571  0.009971   \n",
       "1        19.711916  2008-09-15 23:59:59.000  278.137353  0.728529  0.008676   \n",
       "2        15.936653  2009-11-18 00:00:00.000  191.450000  0.777059  0.008412   \n",
       "3        27.412318  2009-11-18 00:00:00.000  457.924286  0.686061  0.014657   \n",
       "4         9.425704  2010-10-13 10:11:00.000  149.567576  0.824242  0.012030   \n",
       "\n",
       "       LFAL      LGRD      LLRT      LLTD      LLTM      LLTX      LRRT  \\\n",
       "0  2.477143  1.411429  4.000000  0.884286  0.820000  0.935429  2.554286   \n",
       "1  1.135294 -1.694118  3.155882  0.706765  0.633235  0.715882  3.972727   \n",
       "2  1.582353  1.505882  4.055882  1.054412  0.846765  1.039412  2.097059   \n",
       "3  1.234286 -2.011429  2.620000  0.787576  0.678182  0.736000  3.957143   \n",
       "4  2.693939  1.645455  4.000000  0.904545  0.773636  0.923030  3.103030   \n",
       "\n",
       "       LRTM      LRTC       LRTV       LV10       LV3  \n",
       "0  0.812286  0.011429   4.410000  12.122286  0.951429  \n",
       "1  0.681471  0.017647  14.397353  19.884118  0.727059  \n",
       "2  0.771765  0.097059   1.508824  11.829412  1.635294  \n",
       "3  0.805455  0.062857   1.505429  45.800000  1.896970  \n",
       "4  0.755455  0.024242   2.436970  10.013636  0.770909  "
      ]
     },
     "execution_count": 16,
     "metadata": {},
     "output_type": "execute_result"
    }
   ],
   "source": [
    "df.head(5)"
   ]
  },
  {
   "cell_type": "code",
   "execution_count": 24,
   "metadata": {},
   "outputs": [
    {
     "data": {
      "text/plain": [
       "avg_score_lane    0\n",
       "LCRV              0\n",
       "LCTM              0\n",
       "LEDR              0\n",
       "LFAL              0\n",
       "LGRD              0\n",
       "LLRT              0\n",
       "LLTD              0\n",
       "LLTM              0\n",
       "LLTX              0\n",
       "LRRT              0\n",
       "LRTM              0\n",
       "LRTC              0\n",
       "LRTV              0\n",
       "LV10              0\n",
       "LV3               0\n",
       "dtype: int64"
      ]
     },
     "execution_count": 24,
     "metadata": {},
     "output_type": "execute_result"
    }
   ],
   "source": [
    "df.isnull().sum()"
   ]
  },
  {
   "cell_type": "code",
   "execution_count": 19,
   "metadata": {},
   "outputs": [],
   "source": [
    "df.drop(columns=['feature_id','FinancialY','lane','sub_obs_val_max',\n",
    "                 'sub_obs_val_std','survey_feat_end'], inplace = True)"
   ]
  },
  {
   "cell_type": "code",
   "execution_count": 21,
   "metadata": {},
   "outputs": [],
   "source": [
    "df.dropna(how='any',inplace = True)"
   ]
  },
  {
   "cell_type": "markdown",
   "metadata": {},
   "source": [
    "### Prediction Model and Feature importance"
   ]
  },
  {
   "cell_type": "code",
   "execution_count": 27,
   "metadata": {},
   "outputs": [],
   "source": [
    "#Split dataframe in dependent and independent variables \n",
    "x_set = df.iloc[:, 1:]\n",
    "y_set = df.iloc[:, 0] #THE Y SET WILL BE THE AVG RCI VALUE."
   ]
  },
  {
   "cell_type": "code",
   "execution_count": 29,
   "metadata": {},
   "outputs": [],
   "source": [
    "X_train, X_test, y_train, y_test = train_test_split(x_set, y_set, test_size=0.2)"
   ]
  },
  {
   "cell_type": "code",
   "execution_count": 30,
   "metadata": {},
   "outputs": [
    {
     "name": "stdout",
     "output_type": "stream",
     "text": [
      "(19560,)\n",
      "(19560, 15)\n"
     ]
    }
   ],
   "source": [
    "print(y_train.shape)\n",
    "print(X_train.shape)"
   ]
  },
  {
   "cell_type": "code",
   "execution_count": 25,
   "metadata": {},
   "outputs": [
    {
     "data": {
      "text/plain": [
       "(-0.176, 17.587]      7728\n",
       "(17.587, 35.174]      7308\n",
       "(35.174, 52.761]      4816\n",
       "(52.761, 70.348]      2598\n",
       "(70.348, 87.935]      1233\n",
       "(87.935, 105.522]      470\n",
       "(105.522, 123.109]     196\n",
       "(123.109, 140.696]      70\n",
       "(140.696, 158.283]      25\n",
       "(158.283, 175.87]        7\n",
       "Name: avg_score_lane, dtype: int64"
      ]
     },
     "execution_count": 25,
     "metadata": {},
     "output_type": "execute_result"
    }
   ],
   "source": [
    "out = pd.cut(df['avg_score_lane'], bins=10)\n",
    "out.value_counts().reindex(out.cat.categories)"
   ]
  },
  {
   "cell_type": "code",
   "execution_count": 31,
   "metadata": {},
   "outputs": [
    {
     "data": {
      "image/png": "[encoded data removed]",
      "text/plain": [
       "<Figure size 720x288 with 1 Axes>"
      ]
     },
     "metadata": {
      "needs_background": "light"
     },
     "output_type": "display_data"
    }
   ],
   "source": [
    "ax = out.value_counts(sort=False).plot.bar(rot=0, color=\"cyan\", figsize=(10,4))\n",
    "plt.xticks(rotation=45)\n",
    "plt.grid()\n",
    "plt.show()"
   ]
  },
  {
   "cell_type": "code",
   "execution_count": 32,
   "metadata": {},
   "outputs": [
    {
     "name": "stdout",
     "output_type": "stream",
     "text": [
      "For 0.1 the RMSE is: \n",
      "\\RMSE on train dataset :  7.955125744656357\n",
      "\\RMSE on test dataset :  9.056463209650971\n",
      "\\Model score :  0.8933607248321741\n",
      "For 0.25 the RMSE is: \n",
      "\\RMSE on train dataset :  7.023219117688161\n",
      "\\RMSE on test dataset :  9.302938674866237\n",
      "\\Model score :  0.9168819160486426\n",
      "For 0.5 the RMSE is: \n",
      "\\RMSE on train dataset :  6.235393514955974\n",
      "\\RMSE on test dataset :  10.032730016418379\n",
      "\\Model score :  0.9344834800683874\n",
      "For 0.75 the RMSE is: \n",
      "\\RMSE on train dataset :  5.699464598145431\n",
      "\\RMSE on test dataset :  10.738938142642445\n",
      "\\Model score :  0.945261712324212\n",
      "For 1 the RMSE is: \n",
      "\\RMSE on train dataset :  5.720503574710664\n",
      "\\RMSE on test dataset :  12.02680676453904\n",
      "\\Model score :  0.9448568451278431\n"
     ]
    }
   ],
   "source": [
    "#Divide the target variable into individual columns to test\n",
    "l_rate = [0.1,0.25,0.5,0.75,1]\n",
    "for lr in l_rate:\n",
    "    model = GradientBoostingRegressor(n_estimators=250, learning_rate=lr, \n",
    "                           max_features=4, max_depth=4)\n",
    "    model.fit(X_train,y_train)\n",
    "    \n",
    "    print('For ' + str(lr) + ' the RMSE is: ')\n",
    "    \n",
    "       \n",
    "    # predict the target on the train dataset\n",
    "    predict_train = model.predict(X_train)\n",
    "    #print('\\nTarget on train data',predict_train) \n",
    "\n",
    "    # Root Mean Squared Error on train dataset\n",
    "    rmse_train = sqrt(mean_squared_error(y_train,predict_train)) \n",
    "    print('\\RMSE on train dataset : ', rmse_train)\n",
    "\n",
    "    # predict the target on the test dataset\n",
    "    predict_test = model.predict(X_test)\n",
    "    #print('\\nTarget on test data',predict_test) \n",
    "\n",
    "    # Accuracy Score on test dataset\n",
    "    rmse_test = sqrt(mean_squared_error(y_test,predict_test))\n",
    "    print('\\RMSE on test dataset : ', rmse_test)\n",
    "    \n",
    "    score = model.score(X_train,y_train)\n",
    "    print('\\Model score : ', score)"
   ]
  },
  {
   "cell_type": "code",
   "execution_count": 33,
   "metadata": {},
   "outputs": [
    {
     "data": {
      "image/png": "[encoded data removed]",
      "text/plain": [
       "<Figure size 432x288 with 1 Axes>"
      ]
     },
     "metadata": {
      "needs_background": "light"
     },
     "output_type": "display_data"
    }
   ],
   "source": [
    "feat_importances = pd.Series(model.feature_importances_, index=x_set.columns)\n",
    "feat_importances.nlargest(20).plot(kind='barh')\n",
    "plt.show()"
   ]
  },
  {
   "cell_type": "code",
   "execution_count": null,
   "metadata": {},
   "outputs": [],
   "source": []
  }
 ],
 "metadata": {
  "kernelspec": {
   "display_name": "Python 3",
   "language": "python",
   "name": "python3"
  },
  "language_info": {
   "codemirror_mode": {
    "name": "ipython",
    "version": 3
   },
   "file_extension": ".py",
   "mimetype": "text/x-python",
   "name": "python",
   "nbconvert_exporter": "python",
   "pygments_lexer": "ipython3",
   "version": "3.7.4"
  }
 },
 "nbformat": 4,
 "nbformat_minor": 2
}
