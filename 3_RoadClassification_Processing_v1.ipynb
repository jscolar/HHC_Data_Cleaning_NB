{
 "cells": [
  {
   "cell_type": "code",
   "execution_count": 2,
   "metadata": {},
   "outputs": [],
   "source": [
    "import pandas as pd\n",
    "import numpy as np\n",
    "import csv\n",
    "import os\n",
    "from datetime import datetime\n",
    "import seaborn as sns\n",
    "import matplotlib\n",
    "import matplotlib.pyplot as plt\n",
    "from scipy import stats"
   ]
  },
  {
   "cell_type": "code",
   "execution_count": 3,
   "metadata": {},
   "outputs": [],
   "source": [
    "#Activate the first option if whole column width is necessary and the second to make all columns visible\n",
    "#pd.set_option('display.max_colwidth', -1)\n",
    "pd.set_option('display.max_columns', 999)"
   ]
  },
  {
   "cell_type": "markdown",
   "metadata": {},
   "source": [
    "## I. Import the processed dataset"
   ]
  },
  {
   "cell_type": "code",
   "execution_count": 4,
   "metadata": {},
   "outputs": [
    {
     "name": "stdout",
     "output_type": "stream",
     "text": [
      "Index(['feature_id', 'site_id', 'site_name', 'locality', 'town', 'location',\n",
      "       'hierarchy', 'roadclass', 'customer', 'area_name', 'distance', 'ward',\n",
      "       'road_type_hw', 'urban_rural', 'feat_cent_east', 'feat_cent_north',\n",
      "       'ward_code', 'surf_type', 'width', 'road_type', 'road_hierarchy',\n",
      "       'feature_key'],\n",
      "      dtype='object')\n",
      "(19614, 22)\n"
     ]
    }
   ],
   "source": [
    "#Get the report and store it into a dataframe. Check what columns are included in the file\n",
    "report = pd.read_csv('3_RoadClassifications_v2020.csv', dtype = str, index_col = 0)\n",
    "print(report.columns)\n",
    "print(report.shape)"
   ]
  },
  {
   "cell_type": "code",
   "execution_count": 5,
   "metadata": {},
   "outputs": [
    {
     "data": {
      "text/html": [
       "<div>\n",
       "<style scoped>\n",
       "    .dataframe tbody tr th:only-of-type {\n",
       "        vertical-align: middle;\n",
       "    }\n",
       "\n",
       "    .dataframe tbody tr th {\n",
       "        vertical-align: top;\n",
       "    }\n",
       "\n",
       "    .dataframe thead th {\n",
       "        text-align: right;\n",
       "    }\n",
       "</style>\n",
       "<table border=\"1\" class=\"dataframe\">\n",
       "  <thead>\n",
       "    <tr style=\"text-align: right;\">\n",
       "      <th></th>\n",
       "      <th>feature_id</th>\n",
       "      <th>site_id</th>\n",
       "      <th>site_name</th>\n",
       "      <th>locality</th>\n",
       "      <th>town</th>\n",
       "      <th>location</th>\n",
       "      <th>hierarchy</th>\n",
       "      <th>roadclass</th>\n",
       "      <th>customer</th>\n",
       "      <th>area_name</th>\n",
       "      <th>distance</th>\n",
       "      <th>ward</th>\n",
       "      <th>road_type_hw</th>\n",
       "      <th>urban_rural</th>\n",
       "      <th>feat_cent_east</th>\n",
       "      <th>feat_cent_north</th>\n",
       "      <th>ward_code</th>\n",
       "      <th>surf_type</th>\n",
       "      <th>width</th>\n",
       "      <th>road_type</th>\n",
       "      <th>road_hierarchy</th>\n",
       "      <th>feature_key</th>\n",
       "    </tr>\n",
       "    <tr>\n",
       "      <th>asset_id</th>\n",
       "      <th></th>\n",
       "      <th></th>\n",
       "      <th></th>\n",
       "      <th></th>\n",
       "      <th></th>\n",
       "      <th></th>\n",
       "      <th></th>\n",
       "      <th></th>\n",
       "      <th></th>\n",
       "      <th></th>\n",
       "      <th></th>\n",
       "      <th></th>\n",
       "      <th></th>\n",
       "      <th></th>\n",
       "      <th></th>\n",
       "      <th></th>\n",
       "      <th></th>\n",
       "      <th></th>\n",
       "      <th></th>\n",
       "      <th></th>\n",
       "      <th></th>\n",
       "      <th></th>\n",
       "    </tr>\n",
       "  </thead>\n",
       "  <tbody>\n",
       "    <tr>\n",
       "      <td>HWCW524005</td>\n",
       "      <td>0U1/10</td>\n",
       "      <td>43000150</td>\n",
       "      <td>Acacia Street</td>\n",
       "      <td>NaN</td>\n",
       "      <td>Hatfield</td>\n",
       "      <td>Grove Lea to Nos 49 - 101</td>\n",
       "      <td>L2 Local Access</td>\n",
       "      <td>Unclassified Road - U</td>\n",
       "      <td>HH: Hertfordshire Highways</td>\n",
       "      <td>MW: 0-Welwyn Hatfield Area</td>\n",
       "      <td>276</td>\n",
       "      <td>Hatfield South</td>\n",
       "      <td>Single 2-Lane Carriageway</td>\n",
       "      <td>Urban</td>\n",
       "      <td>522204.77</td>\n",
       "      <td>206787.87</td>\n",
       "      <td>ED76</td>\n",
       "      <td>BITM</td>\n",
       "      <td>9.23</td>\n",
       "      <td>S2</td>\n",
       "      <td>4B</td>\n",
       "      <td>393127</td>\n",
       "    </tr>\n",
       "    <tr>\n",
       "      <td>HWCW524006</td>\n",
       "      <td>0U1/20</td>\n",
       "      <td>43000150</td>\n",
       "      <td>Acacia Street</td>\n",
       "      <td>NaN</td>\n",
       "      <td>Hatfield</td>\n",
       "      <td>No 3 to Northdown Road</td>\n",
       "      <td>L2 Local Access</td>\n",
       "      <td>Unclassified Road - U</td>\n",
       "      <td>HH: Hertfordshire Highways</td>\n",
       "      <td>MW: 0-Welwyn Hatfield Area</td>\n",
       "      <td>49</td>\n",
       "      <td>Hatfield South</td>\n",
       "      <td>Single 2-Lane Carriageway</td>\n",
       "      <td>Urban</td>\n",
       "      <td>522192.83</td>\n",
       "      <td>206872.23</td>\n",
       "      <td>ED76</td>\n",
       "      <td>BITM</td>\n",
       "      <td>10.44</td>\n",
       "      <td>S2</td>\n",
       "      <td>4B</td>\n",
       "      <td>412116</td>\n",
       "    </tr>\n",
       "    <tr>\n",
       "      <td>HWCW524801</td>\n",
       "      <td>0U10/10</td>\n",
       "      <td>43000294</td>\n",
       "      <td>Aldock</td>\n",
       "      <td>NaN</td>\n",
       "      <td>Welwyn Garden City</td>\n",
       "      <td>Thumbswood To Opp No 8</td>\n",
       "      <td>L2 Local Access</td>\n",
       "      <td>Unclassified Road - U</td>\n",
       "      <td>HH: Hertfordshire Highways</td>\n",
       "      <td>MW: 0-Welwyn Hatfield Area</td>\n",
       "      <td>54</td>\n",
       "      <td>Welwyn Garden City South</td>\n",
       "      <td>Single 2-Lane Carriageway</td>\n",
       "      <td>Urban</td>\n",
       "      <td>525360.17</td>\n",
       "      <td>211444.81</td>\n",
       "      <td>ED78</td>\n",
       "      <td>BITM</td>\n",
       "      <td>9.76</td>\n",
       "      <td>S2</td>\n",
       "      <td>4B</td>\n",
       "      <td>412115</td>\n",
       "    </tr>\n",
       "    <tr>\n",
       "      <td>HWCW524802</td>\n",
       "      <td>0U10/20</td>\n",
       "      <td>43000294</td>\n",
       "      <td>Aldock</td>\n",
       "      <td>NaN</td>\n",
       "      <td>Welwyn Garden City</td>\n",
       "      <td>Opp No 10 To Opp No 4</td>\n",
       "      <td>L2 Local Access</td>\n",
       "      <td>Unclassified Road - U</td>\n",
       "      <td>HH: Hertfordshire Highways</td>\n",
       "      <td>MW: 0-Welwyn Hatfield Area</td>\n",
       "      <td>63</td>\n",
       "      <td>Welwyn Garden City South</td>\n",
       "      <td>Single 2-Lane Carriageway</td>\n",
       "      <td>Urban</td>\n",
       "      <td>525375.15</td>\n",
       "      <td>211469.76</td>\n",
       "      <td>ED78</td>\n",
       "      <td>BITM</td>\n",
       "      <td>10.46</td>\n",
       "      <td>S2</td>\n",
       "      <td>4B</td>\n",
       "      <td>449670</td>\n",
       "    </tr>\n",
       "    <tr>\n",
       "      <td>04047760</td>\n",
       "      <td>0U1000/10</td>\n",
       "      <td>43001565</td>\n",
       "      <td>Bessemer Road</td>\n",
       "      <td>NaN</td>\n",
       "      <td>Welwyn Garden City</td>\n",
       "      <td>Access to The Bakehouse PH parking</td>\n",
       "      <td>L2 Local Access</td>\n",
       "      <td>Unclassified Road - U</td>\n",
       "      <td>HH: Hertfordshire Highways</td>\n",
       "      <td>MW: 0-Welwyn Hatfield Area</td>\n",
       "      <td>13</td>\n",
       "      <td>Haldens</td>\n",
       "      <td>Carriageway Oneway 1-Lane</td>\n",
       "      <td>Urban</td>\n",
       "      <td>524348</td>\n",
       "      <td>213116</td>\n",
       "      <td>ED71</td>\n",
       "      <td>NaN</td>\n",
       "      <td>NaN</td>\n",
       "      <td>S1</td>\n",
       "      <td>4B</td>\n",
       "      <td>4047760</td>\n",
       "    </tr>\n",
       "  </tbody>\n",
       "</table>\n",
       "</div>"
      ],
      "text/plain": [
       "           feature_id   site_id      site_name locality                town  \\\n",
       "asset_id                                                                      \n",
       "HWCW524005     0U1/10  43000150  Acacia Street      NaN            Hatfield   \n",
       "HWCW524006     0U1/20  43000150  Acacia Street      NaN            Hatfield   \n",
       "HWCW524801    0U10/10  43000294         Aldock      NaN  Welwyn Garden City   \n",
       "HWCW524802    0U10/20  43000294         Aldock      NaN  Welwyn Garden City   \n",
       "04047760    0U1000/10  43001565  Bessemer Road      NaN  Welwyn Garden City   \n",
       "\n",
       "                                      location        hierarchy  \\\n",
       "asset_id                                                          \n",
       "HWCW524005           Grove Lea to Nos 49 - 101  L2 Local Access   \n",
       "HWCW524006              No 3 to Northdown Road  L2 Local Access   \n",
       "HWCW524801              Thumbswood To Opp No 8  L2 Local Access   \n",
       "HWCW524802               Opp No 10 To Opp No 4  L2 Local Access   \n",
       "04047760    Access to The Bakehouse PH parking  L2 Local Access   \n",
       "\n",
       "                        roadclass                    customer  \\\n",
       "asset_id                                                        \n",
       "HWCW524005  Unclassified Road - U  HH: Hertfordshire Highways   \n",
       "HWCW524006  Unclassified Road - U  HH: Hertfordshire Highways   \n",
       "HWCW524801  Unclassified Road - U  HH: Hertfordshire Highways   \n",
       "HWCW524802  Unclassified Road - U  HH: Hertfordshire Highways   \n",
       "04047760    Unclassified Road - U  HH: Hertfordshire Highways   \n",
       "\n",
       "                             area_name distance                      ward  \\\n",
       "asset_id                                                                    \n",
       "HWCW524005  MW: 0-Welwyn Hatfield Area      276            Hatfield South   \n",
       "HWCW524006  MW: 0-Welwyn Hatfield Area       49            Hatfield South   \n",
       "HWCW524801  MW: 0-Welwyn Hatfield Area       54  Welwyn Garden City South   \n",
       "HWCW524802  MW: 0-Welwyn Hatfield Area       63  Welwyn Garden City South   \n",
       "04047760    MW: 0-Welwyn Hatfield Area       13                   Haldens   \n",
       "\n",
       "                         road_type_hw urban_rural feat_cent_east  \\\n",
       "asset_id                                                           \n",
       "HWCW524005  Single 2-Lane Carriageway       Urban      522204.77   \n",
       "HWCW524006  Single 2-Lane Carriageway       Urban      522192.83   \n",
       "HWCW524801  Single 2-Lane Carriageway       Urban      525360.17   \n",
       "HWCW524802  Single 2-Lane Carriageway       Urban      525375.15   \n",
       "04047760    Carriageway Oneway 1-Lane       Urban         524348   \n",
       "\n",
       "           feat_cent_north ward_code surf_type  width road_type  \\\n",
       "asset_id                                                          \n",
       "HWCW524005       206787.87      ED76      BITM   9.23        S2   \n",
       "HWCW524006       206872.23      ED76      BITM  10.44        S2   \n",
       "HWCW524801       211444.81      ED78      BITM   9.76        S2   \n",
       "HWCW524802       211469.76      ED78      BITM  10.46        S2   \n",
       "04047760            213116      ED71       NaN    NaN        S1   \n",
       "\n",
       "           road_hierarchy feature_key  \n",
       "asset_id                               \n",
       "HWCW524005             4B      393127  \n",
       "HWCW524006             4B      412116  \n",
       "HWCW524801             4B      412115  \n",
       "HWCW524802             4B      449670  \n",
       "04047760               4B     4047760  "
      ]
     },
     "execution_count": 5,
     "metadata": {},
     "output_type": "execute_result"
    }
   ],
   "source": [
    "report.head(5)"
   ]
  },
  {
   "cell_type": "markdown",
   "metadata": {},
   "source": [
    "### Road classification counts: Urban vs Rural, Class, Hierarchy"
   ]
  },
  {
   "cell_type": "code",
   "execution_count": 6,
   "metadata": {},
   "outputs": [
    {
     "data": {
      "text/plain": [
       "Urban    14155\n",
       "Rural     5459\n",
       "Name: urban_rural, dtype: int64"
      ]
     },
     "execution_count": 6,
     "metadata": {},
     "output_type": "execute_result"
    }
   ],
   "source": [
    "report['urban_rural'].value_counts()"
   ]
  },
  {
   "cell_type": "code",
   "execution_count": 7,
   "metadata": {},
   "outputs": [
    {
     "data": {
      "text/plain": [
       "L2 Local Access             16618\n",
       "L1 Local Distributor         1120\n",
       "MN Main Distributor           847\n",
       "SD Secondary Distributor      643\n",
       "PR Primary Distributor        353\n",
       "L3 Surfaced PRoW               30\n",
       "No Code Allocated               3\n",
       "Name: hierarchy, dtype: int64"
      ]
     },
     "execution_count": 7,
     "metadata": {},
     "output_type": "execute_result"
    }
   ],
   "source": [
    "report['hierarchy'].value_counts()"
   ]
  },
  {
   "cell_type": "code",
   "execution_count": 8,
   "metadata": {},
   "outputs": [
    {
     "data": {
      "text/plain": [
       "Unclassified Road - U           16629\n",
       "Unnumbered Classified Rd - C     1221\n",
       "Principal Road - A               1200\n",
       "Numbered Classified Road - B      543\n",
       "Not Allocated                      21\n",
       "Name: roadclass, dtype: int64"
      ]
     },
     "execution_count": 8,
     "metadata": {},
     "output_type": "execute_result"
    }
   ],
   "source": [
    "report['roadclass'].value_counts()\n"
   ]
  },
  {
   "cell_type": "code",
   "execution_count": 9,
   "metadata": {},
   "outputs": [
    {
     "data": {
      "text/plain": [
       "E: 3-East Herts District      3030\n",
       "N: 5-North Herts District     2597\n",
       "SW: 2-Dacorum Area            2547\n",
       "MW: 6-St Albans Area          2232\n",
       "MW: 0-Welwyn Hatfield Area    1856\n",
       "N: 7-Stevenage Area           1741\n",
       "E: 1-Broxbourne Area          1649\n",
       "MW: 4-Hertsmere District      1624\n",
       "SW: 8-3 Rivers District       1288\n",
       "SW: 9-Watford Area            1050\n",
       "Name: area_name, dtype: int64"
      ]
     },
     "execution_count": 9,
     "metadata": {},
     "output_type": "execute_result"
    }
   ],
   "source": [
    "report['area_name'].value_counts()"
   ]
  },
  {
   "cell_type": "code",
   "execution_count": 10,
   "metadata": {},
   "outputs": [
    {
     "data": {
      "text/plain": [
       "Stevenage                 1848\n",
       "Hemel Hempstead           1411\n",
       "St Albans                 1175\n",
       "Watford                   1070\n",
       "Welwyn Garden City         827\n",
       "Bishop's Stortford         729\n",
       "Cheshunt                   726\n",
       "Hatfield                   662\n",
       "Letchworth Garden City     538\n",
       "Hitchin                    514\n",
       "Harpenden                  509\n",
       "Hertford                   483\n",
       "Borehamwood                474\n",
       "Hoddesdon                  393\n",
       "Potters Bar                346\n",
       "Name: town, dtype: int64"
      ]
     },
     "execution_count": 10,
     "metadata": {},
     "output_type": "execute_result"
    }
   ],
   "source": [
    "#Show percentage of roads per town\n",
    "report['town'].value_counts().head(15)"
   ]
  },
  {
   "cell_type": "code",
   "execution_count": 11,
   "metadata": {},
   "outputs": [
    {
     "data": {
      "text/plain": [
       "E: 3-East Herts District      15.448149\n",
       "N: 5-North Herts District     13.240542\n",
       "SW: 2-Dacorum Area            12.985623\n",
       "MW: 6-St Albans Area          11.379627\n",
       "MW: 0-Welwyn Hatfield Area     9.462629\n",
       "N: 7-Stevenage Area            8.876313\n",
       "E: 1-Broxbourne Area           8.407260\n",
       "MW: 4-Hertsmere District       8.279800\n",
       "SW: 8-3 Rivers District        6.566738\n",
       "SW: 9-Watford Area             5.353319\n",
       "Name: area_name, dtype: float64"
      ]
     },
     "execution_count": 11,
     "metadata": {},
     "output_type": "execute_result"
    }
   ],
   "source": [
    "100*report['area_name'].value_counts(normalize=True)"
   ]
  },
  {
   "cell_type": "code",
   "execution_count": 12,
   "metadata": {},
   "outputs": [
    {
     "data": {
      "text/plain": [
       "Stevenage                 9.421842\n",
       "Hemel Hempstead           7.193841\n",
       "St Albans                 5.990619\n",
       "Watford                   5.455287\n",
       "Welwyn Garden City        4.216376\n",
       "Bishop's Stortford        3.716733\n",
       "Cheshunt                  3.701438\n",
       "Hatfield                  3.375140\n",
       "Letchworth Garden City    2.742939\n",
       "Hitchin                   2.620577\n",
       "Harpenden                 2.595085\n",
       "Hertford                  2.462527\n",
       "Borehamwood               2.416641\n",
       "Hoddesdon                 2.003671\n",
       "Potters Bar               1.764046\n",
       "Name: town, dtype: float64"
      ]
     },
     "execution_count": 12,
     "metadata": {},
     "output_type": "execute_result"
    }
   ],
   "source": [
    "#Show percentage of roads per town\n",
    "100*report['town'].value_counts(normalize=True).head(15)\n",
    "#report.columns"
   ]
  },
  {
   "cell_type": "code",
   "execution_count": 13,
   "metadata": {},
   "outputs": [
    {
     "name": "stdout",
     "output_type": "stream",
     "text": [
      "The instances covered by the top 37 codes are: 11705\n",
      "Which represents: 60.0% of the total amount\n"
     ]
    }
   ],
   "source": [
    "ans = report.groupby(['town'],as_index = False).size().sort_values(ascending = False).head(15).sum()\n",
    "print('The instances covered by the top 37 codes are: ' + str(ans))\n",
    "print('Which represents: '+str(round((ans*100)/report.shape[0]),) + '% of the total amount')"
   ]
  },
  {
   "cell_type": "markdown",
   "metadata": {},
   "source": [
    "### Length and width of roads"
   ]
  },
  {
   "cell_type": "code",
   "execution_count": 14,
   "metadata": {},
   "outputs": [
    {
     "data": {
      "text/html": [
       "<div>\n",
       "<style scoped>\n",
       "    .dataframe tbody tr th:only-of-type {\n",
       "        vertical-align: middle;\n",
       "    }\n",
       "\n",
       "    .dataframe tbody tr th {\n",
       "        vertical-align: top;\n",
       "    }\n",
       "\n",
       "    .dataframe thead th {\n",
       "        text-align: right;\n",
       "    }\n",
       "</style>\n",
       "<table border=\"1\" class=\"dataframe\">\n",
       "  <thead>\n",
       "    <tr style=\"text-align: right;\">\n",
       "      <th></th>\n",
       "      <th>feature_id</th>\n",
       "      <th>site_id</th>\n",
       "      <th>site_name</th>\n",
       "      <th>locality</th>\n",
       "      <th>town</th>\n",
       "      <th>location</th>\n",
       "      <th>hierarchy</th>\n",
       "      <th>roadclass</th>\n",
       "      <th>customer</th>\n",
       "      <th>area_name</th>\n",
       "      <th>distance</th>\n",
       "      <th>ward</th>\n",
       "      <th>road_type_hw</th>\n",
       "      <th>urban_rural</th>\n",
       "      <th>feat_cent_east</th>\n",
       "      <th>feat_cent_north</th>\n",
       "      <th>ward_code</th>\n",
       "      <th>surf_type</th>\n",
       "      <th>width</th>\n",
       "      <th>road_type</th>\n",
       "      <th>road_hierarchy</th>\n",
       "      <th>feature_key</th>\n",
       "    </tr>\n",
       "  </thead>\n",
       "  <tbody>\n",
       "    <tr>\n",
       "      <td>count</td>\n",
       "      <td>19614</td>\n",
       "      <td>19614</td>\n",
       "      <td>19614</td>\n",
       "      <td>737</td>\n",
       "      <td>19614</td>\n",
       "      <td>19610</td>\n",
       "      <td>19614</td>\n",
       "      <td>19614</td>\n",
       "      <td>19614</td>\n",
       "      <td>19614</td>\n",
       "      <td>19614</td>\n",
       "      <td>19614</td>\n",
       "      <td>19576</td>\n",
       "      <td>19614</td>\n",
       "      <td>19614</td>\n",
       "      <td>19614</td>\n",
       "      <td>19614</td>\n",
       "      <td>18427</td>\n",
       "      <td>18594</td>\n",
       "      <td>19516</td>\n",
       "      <td>19516</td>\n",
       "      <td>19614</td>\n",
       "    </tr>\n",
       "    <tr>\n",
       "      <td>unique</td>\n",
       "      <td>19614</td>\n",
       "      <td>11360</td>\n",
       "      <td>9154</td>\n",
       "      <td>91</td>\n",
       "      <td>257</td>\n",
       "      <td>18506</td>\n",
       "      <td>7</td>\n",
       "      <td>5</td>\n",
       "      <td>1</td>\n",
       "      <td>10</td>\n",
       "      <td>1824</td>\n",
       "      <td>78</td>\n",
       "      <td>17</td>\n",
       "      <td>2</td>\n",
       "      <td>19545</td>\n",
       "      <td>19554</td>\n",
       "      <td>78</td>\n",
       "      <td>6</td>\n",
       "      <td>1636</td>\n",
       "      <td>10</td>\n",
       "      <td>18</td>\n",
       "      <td>19614</td>\n",
       "    </tr>\n",
       "    <tr>\n",
       "      <td>top</td>\n",
       "      <td>0U1702/20</td>\n",
       "      <td>37821965</td>\n",
       "      <td>High Street</td>\n",
       "      <td>Great Ashby</td>\n",
       "      <td>Stevenage</td>\n",
       "      <td>Turning Circle</td>\n",
       "      <td>L2 Local Access</td>\n",
       "      <td>Unclassified Road - U</td>\n",
       "      <td>HH: Hertfordshire Highways</td>\n",
       "      <td>E: 3-East Herts District</td>\n",
       "      <td>50</td>\n",
       "      <td>Royston West &amp; Rural</td>\n",
       "      <td>Single 2-Lane Carriageway</td>\n",
       "      <td>Urban</td>\n",
       "      <td>0</td>\n",
       "      <td>0</td>\n",
       "      <td>ED42</td>\n",
       "      <td>BITM</td>\n",
       "      <td>9.48</td>\n",
       "      <td>S2</td>\n",
       "      <td>4B</td>\n",
       "      <td>412413</td>\n",
       "    </tr>\n",
       "    <tr>\n",
       "      <td>freq</td>\n",
       "      <td>1</td>\n",
       "      <td>33</td>\n",
       "      <td>144</td>\n",
       "      <td>104</td>\n",
       "      <td>1848</td>\n",
       "      <td>21</td>\n",
       "      <td>16618</td>\n",
       "      <td>16629</td>\n",
       "      <td>19614</td>\n",
       "      <td>3030</td>\n",
       "      <td>169</td>\n",
       "      <td>456</td>\n",
       "      <td>17599</td>\n",
       "      <td>14155</td>\n",
       "      <td>5</td>\n",
       "      <td>5</td>\n",
       "      <td>456</td>\n",
       "      <td>16825</td>\n",
       "      <td>55</td>\n",
       "      <td>17986</td>\n",
       "      <td>16830</td>\n",
       "      <td>1</td>\n",
       "    </tr>\n",
       "  </tbody>\n",
       "</table>\n",
       "</div>"
      ],
      "text/plain": [
       "       feature_id   site_id    site_name     locality       town  \\\n",
       "count       19614     19614        19614          737      19614   \n",
       "unique      19614     11360         9154           91        257   \n",
       "top     0U1702/20  37821965  High Street  Great Ashby  Stevenage   \n",
       "freq            1        33          144          104       1848   \n",
       "\n",
       "              location        hierarchy              roadclass  \\\n",
       "count            19610            19614                  19614   \n",
       "unique           18506                7                      5   \n",
       "top     Turning Circle  L2 Local Access  Unclassified Road - U   \n",
       "freq                21            16618                  16629   \n",
       "\n",
       "                          customer                 area_name distance  \\\n",
       "count                        19614                     19614    19614   \n",
       "unique                           1                        10     1824   \n",
       "top     HH: Hertfordshire Highways  E: 3-East Herts District       50   \n",
       "freq                         19614                      3030      169   \n",
       "\n",
       "                        ward               road_type_hw urban_rural  \\\n",
       "count                  19614                      19576       19614   \n",
       "unique                    78                         17           2   \n",
       "top     Royston West & Rural  Single 2-Lane Carriageway       Urban   \n",
       "freq                     456                      17599       14155   \n",
       "\n",
       "       feat_cent_east feat_cent_north ward_code surf_type  width road_type  \\\n",
       "count           19614           19614     19614     18427  18594     19516   \n",
       "unique          19545           19554        78         6   1636        10   \n",
       "top                 0               0      ED42      BITM   9.48        S2   \n",
       "freq                5               5       456     16825     55     17986   \n",
       "\n",
       "       road_hierarchy feature_key  \n",
       "count           19516       19614  \n",
       "unique             18       19614  \n",
       "top                4B      412413  \n",
       "freq            16830           1  "
      ]
     },
     "execution_count": 14,
     "metadata": {},
     "output_type": "execute_result"
    }
   ],
   "source": [
    "#Identify unique values to validate that feature_id has one record per set\n",
    "report.describe()\n"
   ]
  },
  {
   "cell_type": "code",
   "execution_count": 15,
   "metadata": {},
   "outputs": [
    {
     "data": {
      "text/plain": [
       "count    19614.000000\n",
       "mean       261.399703\n",
       "std        360.031160\n",
       "min          0.000000\n",
       "25%         63.000000\n",
       "50%        125.000000\n",
       "75%        295.000000\n",
       "max       3696.000000\n",
       "Name: distance, dtype: float64"
      ]
     },
     "execution_count": 15,
     "metadata": {},
     "output_type": "execute_result"
    }
   ],
   "source": [
    "#Show length metrics of roads\n",
    "report['distance'] = report['distance'].astype(float)\n",
    "report['distance'].describe()"
   ]
  },
  {
   "cell_type": "code",
   "execution_count": 16,
   "metadata": {},
   "outputs": [
    {
     "data": {
      "text/plain": [
       "(-3.696, 246.4]     13887\n",
       "(246.4, 492.8]       2893\n",
       "(492.8, 739.2]       1165\n",
       "(739.2, 985.6]        632\n",
       "(985.6, 1232.0]       396\n",
       "(1232.0, 1478.4]      254\n",
       "(1478.4, 1724.8]      140\n",
       "(1724.8, 1971.2]      121\n",
       "(1971.2, 2217.6]       45\n",
       "(2217.6, 2464.0]       45\n",
       "(2464.0, 2710.4]       19\n",
       "(2710.4, 2956.8]        6\n",
       "(2956.8, 3203.2]        5\n",
       "(3203.2, 3449.6]        2\n",
       "(3449.6, 3696.0]        4\n",
       "Name: distance, dtype: int64"
      ]
     },
     "execution_count": 16,
     "metadata": {},
     "output_type": "execute_result"
    }
   ],
   "source": [
    "out = pd.cut(report['distance'], bins=15)\n",
    "out.value_counts().reindex(out.cat.categories)"
   ]
  },
  {
   "cell_type": "code",
   "execution_count": 24,
   "metadata": {},
   "outputs": [
    {
     "data": {
      "image/png": "[encoded data removed]",
      "text/plain": [
       "<Figure size 1440x288 with 1 Axes>"
      ]
     },
     "metadata": {
      "needs_background": "light"
     },
     "output_type": "display_data"
    }
   ],
   "source": [
    "ax = out.value_counts(sort=False).plot.bar(rot=0, color=\"b\", figsize=(20,4))\n",
    "plt.xticks(rotation=45)\n",
    "plt.show()"
   ]
  },
  {
   "cell_type": "code",
   "execution_count": 18,
   "metadata": {},
   "outputs": [
    {
     "data": {
      "text/plain": [
       "count    18594.000000\n",
       "mean         9.379252\n",
       "std          2.986671\n",
       "min          0.000000\n",
       "25%          7.760000\n",
       "50%          9.400000\n",
       "75%         10.930000\n",
       "max         60.260000\n",
       "Name: width, dtype: float64"
      ]
     },
     "execution_count": 18,
     "metadata": {},
     "output_type": "execute_result"
    }
   ],
   "source": [
    "#Show width metrics of roads\n",
    "report['width'] = report['width'].astype(float)\n",
    "report['width'].describe()"
   ]
  },
  {
   "cell_type": "code",
   "execution_count": 19,
   "metadata": {},
   "outputs": [
    {
     "data": {
      "text/plain": [
       "(-0.0603, 6.026]     2299\n",
       "(6.026, 12.052]     13819\n",
       "(12.052, 18.078]     2300\n",
       "(18.078, 24.104]      148\n",
       "(24.104, 30.13]        21\n",
       "(30.13, 36.156]         3\n",
       "(36.156, 42.182]        2\n",
       "(42.182, 48.208]        0\n",
       "(48.208, 54.234]        1\n",
       "(54.234, 60.26]         1\n",
       "Name: width, dtype: int64"
      ]
     },
     "execution_count": 19,
     "metadata": {},
     "output_type": "execute_result"
    }
   ],
   "source": [
    "out2 = pd.cut(report['width'], bins=10)\n",
    "out2.value_counts().reindex(out2.cat.categories)"
   ]
  },
  {
   "cell_type": "code",
   "execution_count": 20,
   "metadata": {},
   "outputs": [
    {
     "data": {
      "image/png": "[encoded data removed]",
      "text/plain": [
       "<Figure size 1080x288 with 1 Axes>"
      ]
     },
     "metadata": {
      "needs_background": "light"
     },
     "output_type": "display_data"
    }
   ],
   "source": [
    "ax2 = out2.value_counts(sort=False).plot.bar(rot=0, color=\"r\", figsize=(15,4))\n",
    "plt.show()"
   ]
  },
  {
   "cell_type": "markdown",
   "metadata": {},
   "source": [
    "### Count per Surface Type"
   ]
  },
  {
   "cell_type": "code",
   "execution_count": 21,
   "metadata": {},
   "outputs": [
    {
     "data": {
      "text/plain": [
       "BITM    91.306235\n",
       "BLCK     4.835296\n",
       "CONC     3.071580\n",
       "SRFD     0.423292\n",
       "RASH     0.352743\n",
       "OTHR     0.010854\n",
       "Name: surf_type, dtype: float64"
      ]
     },
     "execution_count": 21,
     "metadata": {},
     "output_type": "execute_result"
    }
   ],
   "source": [
    "#Show percentage of roads per surface type\n",
    "100*report['surf_type'].value_counts(normalize=True).head(15)\n",
    "#report.columns"
   ]
  },
  {
   "cell_type": "code",
   "execution_count": 22,
   "metadata": {},
   "outputs": [
    {
     "data": {
      "text/html": [
       "<div>\n",
       "<style scoped>\n",
       "    .dataframe tbody tr th:only-of-type {\n",
       "        vertical-align: middle;\n",
       "    }\n",
       "\n",
       "    .dataframe tbody tr th {\n",
       "        vertical-align: top;\n",
       "    }\n",
       "\n",
       "    .dataframe thead tr th {\n",
       "        text-align: left;\n",
       "    }\n",
       "\n",
       "    .dataframe thead tr:last-of-type th {\n",
       "        text-align: right;\n",
       "    }\n",
       "</style>\n",
       "<table border=\"1\" class=\"dataframe\">\n",
       "  <thead>\n",
       "    <tr>\n",
       "      <th></th>\n",
       "      <th></th>\n",
       "      <th>surf_type</th>\n",
       "    </tr>\n",
       "    <tr>\n",
       "      <th></th>\n",
       "      <th></th>\n",
       "      <th>count</th>\n",
       "    </tr>\n",
       "    <tr>\n",
       "      <th>hierarchy</th>\n",
       "      <th>surf_type</th>\n",
       "      <th></th>\n",
       "    </tr>\n",
       "  </thead>\n",
       "  <tbody>\n",
       "    <tr>\n",
       "      <td rowspan=\"4\" valign=\"top\">L1 Local Distributor</td>\n",
       "      <td>BITM</td>\n",
       "      <td>1068</td>\n",
       "    </tr>\n",
       "    <tr>\n",
       "      <td>BLCK</td>\n",
       "      <td>10</td>\n",
       "    </tr>\n",
       "    <tr>\n",
       "      <td>RASH</td>\n",
       "      <td>9</td>\n",
       "    </tr>\n",
       "    <tr>\n",
       "      <td>SRFD</td>\n",
       "      <td>3</td>\n",
       "    </tr>\n",
       "    <tr>\n",
       "      <td rowspan=\"6\" valign=\"top\">L2 Local Access</td>\n",
       "      <td>BITM</td>\n",
       "      <td>14033</td>\n",
       "    </tr>\n",
       "    <tr>\n",
       "      <td>BLCK</td>\n",
       "      <td>878</td>\n",
       "    </tr>\n",
       "    <tr>\n",
       "      <td>CONC</td>\n",
       "      <td>563</td>\n",
       "    </tr>\n",
       "    <tr>\n",
       "      <td>OTHR</td>\n",
       "      <td>2</td>\n",
       "    </tr>\n",
       "    <tr>\n",
       "      <td>RASH</td>\n",
       "      <td>30</td>\n",
       "    </tr>\n",
       "    <tr>\n",
       "      <td>SRFD</td>\n",
       "      <td>65</td>\n",
       "    </tr>\n",
       "    <tr>\n",
       "      <td>L3 Surfaced PRoW</td>\n",
       "      <td>BITM</td>\n",
       "      <td>3</td>\n",
       "    </tr>\n",
       "    <tr>\n",
       "      <td rowspan=\"4\" valign=\"top\">MN Main Distributor</td>\n",
       "      <td>BITM</td>\n",
       "      <td>811</td>\n",
       "    </tr>\n",
       "    <tr>\n",
       "      <td>CONC</td>\n",
       "      <td>1</td>\n",
       "    </tr>\n",
       "    <tr>\n",
       "      <td>RASH</td>\n",
       "      <td>1</td>\n",
       "    </tr>\n",
       "    <tr>\n",
       "      <td>SRFD</td>\n",
       "      <td>1</td>\n",
       "    </tr>\n",
       "    <tr>\n",
       "      <td>No Code Allocated</td>\n",
       "      <td>CONC</td>\n",
       "      <td>1</td>\n",
       "    </tr>\n",
       "    <tr>\n",
       "      <td rowspan=\"3\" valign=\"top\">PR Primary Distributor</td>\n",
       "      <td>BITM</td>\n",
       "      <td>328</td>\n",
       "    </tr>\n",
       "    <tr>\n",
       "      <td>CONC</td>\n",
       "      <td>1</td>\n",
       "    </tr>\n",
       "    <tr>\n",
       "      <td>RASH</td>\n",
       "      <td>3</td>\n",
       "    </tr>\n",
       "    <tr>\n",
       "      <td rowspan=\"4\" valign=\"top\">SD Secondary Distributor</td>\n",
       "      <td>BITM</td>\n",
       "      <td>582</td>\n",
       "    </tr>\n",
       "    <tr>\n",
       "      <td>BLCK</td>\n",
       "      <td>3</td>\n",
       "    </tr>\n",
       "    <tr>\n",
       "      <td>RASH</td>\n",
       "      <td>22</td>\n",
       "    </tr>\n",
       "    <tr>\n",
       "      <td>SRFD</td>\n",
       "      <td>9</td>\n",
       "    </tr>\n",
       "  </tbody>\n",
       "</table>\n",
       "</div>"
      ],
      "text/plain": [
       "                                   surf_type\n",
       "                                       count\n",
       "hierarchy                surf_type          \n",
       "L1 Local Distributor     BITM           1068\n",
       "                         BLCK             10\n",
       "                         RASH              9\n",
       "                         SRFD              3\n",
       "L2 Local Access          BITM          14033\n",
       "                         BLCK            878\n",
       "                         CONC            563\n",
       "                         OTHR              2\n",
       "                         RASH             30\n",
       "                         SRFD             65\n",
       "L3 Surfaced PRoW         BITM              3\n",
       "MN Main Distributor      BITM            811\n",
       "                         CONC              1\n",
       "                         RASH              1\n",
       "                         SRFD              1\n",
       "No Code Allocated        CONC              1\n",
       "PR Primary Distributor   BITM            328\n",
       "                         CONC              1\n",
       "                         RASH              3\n",
       "SD Secondary Distributor BITM            582\n",
       "                         BLCK              3\n",
       "                         RASH             22\n",
       "                         SRFD              9"
      ]
     },
     "execution_count": 22,
     "metadata": {},
     "output_type": "execute_result"
    }
   ],
   "source": [
    "report.groupby(['hierarchy','surf_type']).agg({'surf_type': ['count']})"
   ]
  },
  {
   "cell_type": "code",
   "execution_count": 23,
   "metadata": {},
   "outputs": [
    {
     "data": {
      "text/html": [
       "<div>\n",
       "<style scoped>\n",
       "    .dataframe tbody tr th:only-of-type {\n",
       "        vertical-align: middle;\n",
       "    }\n",
       "\n",
       "    .dataframe tbody tr th {\n",
       "        vertical-align: top;\n",
       "    }\n",
       "\n",
       "    .dataframe thead th {\n",
       "        text-align: right;\n",
       "    }\n",
       "</style>\n",
       "<table border=\"1\" class=\"dataframe\">\n",
       "  <thead>\n",
       "    <tr style=\"text-align: right;\">\n",
       "      <th></th>\n",
       "      <th>feature_id</th>\n",
       "      <th>site_id</th>\n",
       "      <th>site_name</th>\n",
       "      <th>locality</th>\n",
       "      <th>town</th>\n",
       "      <th>location</th>\n",
       "      <th>hierarchy</th>\n",
       "      <th>roadclass</th>\n",
       "      <th>customer</th>\n",
       "      <th>area_name</th>\n",
       "      <th>distance</th>\n",
       "      <th>ward</th>\n",
       "      <th>road_type_hw</th>\n",
       "      <th>urban_rural</th>\n",
       "      <th>feat_cent_east</th>\n",
       "      <th>feat_cent_north</th>\n",
       "      <th>ward_code</th>\n",
       "      <th>surf_type</th>\n",
       "      <th>width</th>\n",
       "      <th>road_type</th>\n",
       "      <th>road_hierarchy</th>\n",
       "      <th>feature_key</th>\n",
       "    </tr>\n",
       "    <tr>\n",
       "      <th>asset_id</th>\n",
       "      <th></th>\n",
       "      <th></th>\n",
       "      <th></th>\n",
       "      <th></th>\n",
       "      <th></th>\n",
       "      <th></th>\n",
       "      <th></th>\n",
       "      <th></th>\n",
       "      <th></th>\n",
       "      <th></th>\n",
       "      <th></th>\n",
       "      <th></th>\n",
       "      <th></th>\n",
       "      <th></th>\n",
       "      <th></th>\n",
       "      <th></th>\n",
       "      <th></th>\n",
       "      <th></th>\n",
       "      <th></th>\n",
       "      <th></th>\n",
       "      <th></th>\n",
       "      <th></th>\n",
       "    </tr>\n",
       "  </thead>\n",
       "  <tbody>\n",
       "    <tr>\n",
       "      <td>HWCW526912</td>\n",
       "      <td>A1081/130</td>\n",
       "      <td>37307803</td>\n",
       "      <td>Harpenden Road</td>\n",
       "      <td>NaN</td>\n",
       "      <td>St Albans</td>\n",
       "      <td>Beech Road To 40mph Signs</td>\n",
       "      <td>MN Main Distributor</td>\n",
       "      <td>Principal Road - A</td>\n",
       "      <td>HH: Hertfordshire Highways</td>\n",
       "      <td>MW: 6-St Albans Area</td>\n",
       "      <td>895.0</td>\n",
       "      <td>Harpenden Rural</td>\n",
       "      <td>Single 2-Lane Carriageway</td>\n",
       "      <td>Urban</td>\n",
       "      <td>515058</td>\n",
       "      <td>209204.47</td>\n",
       "      <td>ED45</td>\n",
       "      <td>BITM</td>\n",
       "      <td>12.2</td>\n",
       "      <td>S2</td>\n",
       "      <td>3A</td>\n",
       "      <td>395998</td>\n",
       "    </tr>\n",
       "  </tbody>\n",
       "</table>\n",
       "</div>"
      ],
      "text/plain": [
       "           feature_id   site_id       site_name locality       town  \\\n",
       "asset_id                                                              \n",
       "HWCW526912  A1081/130  37307803  Harpenden Road      NaN  St Albans   \n",
       "\n",
       "                             location            hierarchy  \\\n",
       "asset_id                                                     \n",
       "HWCW526912  Beech Road To 40mph Signs  MN Main Distributor   \n",
       "\n",
       "                     roadclass                    customer  \\\n",
       "asset_id                                                     \n",
       "HWCW526912  Principal Road - A  HH: Hertfordshire Highways   \n",
       "\n",
       "                       area_name  distance             ward  \\\n",
       "asset_id                                                      \n",
       "HWCW526912  MW: 6-St Albans Area     895.0  Harpenden Rural   \n",
       "\n",
       "                         road_type_hw urban_rural feat_cent_east  \\\n",
       "asset_id                                                           \n",
       "HWCW526912  Single 2-Lane Carriageway       Urban         515058   \n",
       "\n",
       "           feat_cent_north ward_code surf_type  width road_type  \\\n",
       "asset_id                                                          \n",
       "HWCW526912       209204.47      ED45      BITM   12.2        S2   \n",
       "\n",
       "           road_hierarchy feature_key  \n",
       "asset_id                               \n",
       "HWCW526912             3A      395998  "
      ]
     },
     "execution_count": 23,
     "metadata": {},
     "output_type": "execute_result"
    }
   ],
   "source": [
    "report.loc[report['feature_id']=='A1081/130']"
   ]
  },
  {
   "cell_type": "code",
   "execution_count": 25,
   "metadata": {},
   "outputs": [
    {
     "data": {
      "text/plain": [
       "Single 2-Lane Carriageway         89.900899\n",
       "Dual 2 Lane                        2.298733\n",
       "Single Lane Carriageway            2.201676\n",
       "Roundabout                         2.099510\n",
       "Carriageway Oneway 2-Lane          1.460973\n",
       "Carriageway Oneway 1-Lane          1.026767\n",
       "Slip/Feeder Road Oneway 2-Lane     0.255415\n",
       "Slip/Feeder Road Oneway 1-Lane     0.245198\n",
       "Carriageway Oxbow-Layby            0.245198\n",
       "Slip/Feeder Road Single 2-Lane     0.066408\n",
       "Dual 1 Lane                        0.066408\n",
       "Dual 3 Lane                        0.051083\n",
       "Carriageway Oneway 3-Lane          0.035758\n",
       "Single 3-Lane Carriageway          0.020433\n",
       "Not Allocated                      0.010217\n",
       "Slip/Feeder Road Dual 2-Lane       0.010217\n",
       "Shared Cycleway Footway            0.005108\n",
       "Name: road_type_hw, dtype: float64"
      ]
     },
     "execution_count": 25,
     "metadata": {},
     "output_type": "execute_result"
    }
   ],
   "source": [
    "100*report['road_type_hw'].value_counts(normalize=True)"
   ]
  },
  {
   "cell_type": "code",
   "execution_count": null,
   "metadata": {},
   "outputs": [],
   "source": []
  }
 ],
 "metadata": {
  "kernelspec": {
   "display_name": "Python 3",
   "language": "python",
   "name": "python3"
  },
  "language_info": {
   "codemirror_mode": {
    "name": "ipython",
    "version": 3
   },
   "file_extension": ".py",
   "mimetype": "text/x-python",
   "name": "python",
   "nbconvert_exporter": "python",
   "pygments_lexer": "ipython3",
   "version": "3.7.4"
  }
 },
 "nbformat": 4,
 "nbformat_minor": 2
}
