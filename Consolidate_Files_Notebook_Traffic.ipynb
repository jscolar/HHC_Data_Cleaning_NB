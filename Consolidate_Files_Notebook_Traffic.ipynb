{
 "cells": [
  {
   "cell_type": "code",
   "execution_count": 10,
   "metadata": {},
   "outputs": [],
   "source": [
    "import pandas as pd\n",
    "import matplotlib.pyplot as plt\n",
    "import csv\n",
    "import os"
   ]
  },
  {
   "cell_type": "code",
   "execution_count": 13,
   "metadata": {},
   "outputs": [
    {
     "name": "stdout",
     "output_type": "stream",
     "text": [
      "C:\\Users\\J FernandezGomez\\Jupyter Notebooks\\Cleaning_Data_Notebooks\\5_Traffic_Master\n",
      "['Main 0005.xlsx', 'Main 1617.xlsx', 'Main 1618.xlsx', 'Main 1619.xlsx', 'Main 1718.xlsx', 'Main 1921 Summer.xlsx', 'Main 710.xlsx', 'Main 78.xlsx', 'Main 79.xlsx', 'Main 89.xlsx', 'Main 910.xlsx', 'main1215.xlsx']\n"
     ]
    }
   ],
   "source": [
    "#Get the Excel files \n",
    "ex_dir = os.getcwd()\n",
    "\n",
    "dir_tree = os.walk(ex_dir)\n",
    "for dirpath, dirnames, filenames in dir_tree:\n",
    "   pass\n",
    "\n",
    "ex_list = []\n",
    "for file in filenames:\n",
    "   if file.endswith('.xlsx'):\n",
    "      ex_list.append(file)\n",
    "\n",
    "print(ex_dir)\n",
    "print(ex_list)"
   ]
  },
  {
   "cell_type": "code",
   "execution_count": 32,
   "metadata": {},
   "outputs": [
    {
     "name": "stdout",
     "output_type": "stream",
     "text": [
      "File read: Main 0005.xlsx\n",
      "File read: Main 1617.xlsx\n",
      "File read: Main 1618.xlsx\n",
      "File read: Main 1619.xlsx\n",
      "File read: Main 1718.xlsx\n",
      "File read: Main 1921 Summer.xlsx\n",
      "File read: Main 710.xlsx\n",
      "File read: Main 78.xlsx\n",
      "File read: Main 79.xlsx\n",
      "File read: Main 89.xlsx\n",
      "File read: Main 910.xlsx\n",
      "File read: main1215.xlsx\n"
     ]
    }
   ],
   "source": [
    "i = 0\n",
    "for file in ex_list:\n",
    "    read_file = pd.read_excel (file)\n",
    "    print(\"File read: \" + file)\n",
    "    read_file.to_csv (r'C:\\Users\\J FernandezGomez\\Jupyter Notebooks\\Cleaning_Data_Notebooks\\5_Traffic_Master\\trafficMastercsv' + str(i)+'.csv', index = None, header=True)\n",
    "    i = i+1\n"
   ]
  },
  {
   "cell_type": "code",
   "execution_count": 54,
   "metadata": {},
   "outputs": [],
   "source": [
    "#*****CHANGE THE NAME OF THE IN AND OUT FILES****\n",
    "#Load the first report to extract the headers\n",
    "first_report = pd.read_csv(\"Main 0005.csv\", encoding = 'raw_unicode_escape', low_memory = False)"
   ]
  },
  {
   "cell_type": "code",
   "execution_count": 55,
   "metadata": {},
   "outputs": [
    {
     "data": {
      "text/html": [
       "<div>\n",
       "<style scoped>\n",
       "    .dataframe tbody tr th:only-of-type {\n",
       "        vertical-align: middle;\n",
       "    }\n",
       "\n",
       "    .dataframe tbody tr th {\n",
       "        vertical-align: top;\n",
       "    }\n",
       "\n",
       "    .dataframe thead th {\n",
       "        text-align: right;\n",
       "    }\n",
       "</style>\n",
       "<table border=\"1\" class=\"dataframe\">\n",
       "  <thead>\n",
       "    <tr style=\"text-align: right;\">\n",
       "      <th></th>\n",
       "      <th>LinkID</th>\n",
       "      <th>RNum</th>\n",
       "      <th>Start</th>\n",
       "      <th>End</th>\n",
       "      <th>Link length</th>\n",
       "      <th>Time (s)</th>\n",
       "      <th>Stnd deviation</th>\n",
       "      <th>Vehicle count</th>\n",
       "      <th>Avg speed (mph)</th>\n",
       "    </tr>\n",
       "  </thead>\n",
       "  <tbody>\n",
       "    <tr>\n",
       "      <td>0</td>\n",
       "      <td>4000000019182893A</td>\n",
       "      <td>B488</td>\n",
       "      <td>NaN</td>\n",
       "      <td>NaN</td>\n",
       "      <td>1425.39</td>\n",
       "      <td>55.49</td>\n",
       "      <td>10.61</td>\n",
       "      <td>156</td>\n",
       "      <td>57.46</td>\n",
       "    </tr>\n",
       "    <tr>\n",
       "      <td>1</td>\n",
       "      <td>4000000019182893B</td>\n",
       "      <td>B488</td>\n",
       "      <td>NaN</td>\n",
       "      <td>NaN</td>\n",
       "      <td>1425.39</td>\n",
       "      <td>56.82</td>\n",
       "      <td>13.5</td>\n",
       "      <td>72</td>\n",
       "      <td>56.12</td>\n",
       "    </tr>\n",
       "    <tr>\n",
       "      <td>2</td>\n",
       "      <td>4000000019182895A</td>\n",
       "      <td>B488</td>\n",
       "      <td>NaN</td>\n",
       "      <td>NaN</td>\n",
       "      <td>783.44</td>\n",
       "      <td>36.46</td>\n",
       "      <td>6.18</td>\n",
       "      <td>94</td>\n",
       "      <td>48.07</td>\n",
       "    </tr>\n",
       "    <tr>\n",
       "      <td>3</td>\n",
       "      <td>4000000019182895B</td>\n",
       "      <td>B488</td>\n",
       "      <td>NaN</td>\n",
       "      <td>NaN</td>\n",
       "      <td>783.44</td>\n",
       "      <td>37.52</td>\n",
       "      <td>8.04</td>\n",
       "      <td>50</td>\n",
       "      <td>46.71</td>\n",
       "    </tr>\n",
       "    <tr>\n",
       "      <td>4</td>\n",
       "      <td>4000000019182897A</td>\n",
       "      <td>A4146</td>\n",
       "      <td>NaN</td>\n",
       "      <td>NaN</td>\n",
       "      <td>931.75</td>\n",
       "      <td>40.35</td>\n",
       "      <td>5.15</td>\n",
       "      <td>232</td>\n",
       "      <td>51.66</td>\n",
       "    </tr>\n",
       "    <tr>\n",
       "      <td>5</td>\n",
       "      <td>4000000019182897B</td>\n",
       "      <td>A4146</td>\n",
       "      <td>NaN</td>\n",
       "      <td>NaN</td>\n",
       "      <td>931.75</td>\n",
       "      <td>42.56</td>\n",
       "      <td>4.91</td>\n",
       "      <td>54</td>\n",
       "      <td>48.97</td>\n",
       "    </tr>\n",
       "    <tr>\n",
       "      <td>6</td>\n",
       "      <td>4000000019182900A</td>\n",
       "      <td>A505</td>\n",
       "      <td>NaN</td>\n",
       "      <td>NaN</td>\n",
       "      <td>546.63</td>\n",
       "      <td>21.01</td>\n",
       "      <td>2.94</td>\n",
       "      <td>585</td>\n",
       "      <td>58.21</td>\n",
       "    </tr>\n",
       "    <tr>\n",
       "      <td>7</td>\n",
       "      <td>4000000019182900B</td>\n",
       "      <td>A505</td>\n",
       "      <td>NaN</td>\n",
       "      <td>NaN</td>\n",
       "      <td>546.63</td>\n",
       "      <td>20.86</td>\n",
       "      <td>2.84</td>\n",
       "      <td>281</td>\n",
       "      <td>58.63</td>\n",
       "    </tr>\n",
       "    <tr>\n",
       "      <td>8</td>\n",
       "      <td>4000000019182906A</td>\n",
       "      <td>A505</td>\n",
       "      <td>NaN</td>\n",
       "      <td>NaN</td>\n",
       "      <td>2861.53</td>\n",
       "      <td>117.5</td>\n",
       "      <td>28.24</td>\n",
       "      <td>681</td>\n",
       "      <td>54.48</td>\n",
       "    </tr>\n",
       "    <tr>\n",
       "      <td>9</td>\n",
       "      <td>4000000019182906B</td>\n",
       "      <td>A505</td>\n",
       "      <td>NaN</td>\n",
       "      <td>NaN</td>\n",
       "      <td>2861.53</td>\n",
       "      <td>114.65</td>\n",
       "      <td>17.48</td>\n",
       "      <td>391</td>\n",
       "      <td>55.83</td>\n",
       "    </tr>\n",
       "  </tbody>\n",
       "</table>\n",
       "</div>"
      ],
      "text/plain": [
       "              LinkID   RNum  Start  End  Link length Time (s) Stnd deviation  \\\n",
       "0  4000000019182893A   B488    NaN  NaN      1425.39    55.49          10.61   \n",
       "1  4000000019182893B   B488    NaN  NaN      1425.39    56.82           13.5   \n",
       "2  4000000019182895A   B488    NaN  NaN       783.44    36.46           6.18   \n",
       "3  4000000019182895B   B488    NaN  NaN       783.44    37.52           8.04   \n",
       "4  4000000019182897A  A4146    NaN  NaN       931.75    40.35           5.15   \n",
       "5  4000000019182897B  A4146    NaN  NaN       931.75    42.56           4.91   \n",
       "6  4000000019182900A   A505    NaN  NaN       546.63    21.01           2.94   \n",
       "7  4000000019182900B   A505    NaN  NaN       546.63    20.86           2.84   \n",
       "8  4000000019182906A   A505    NaN  NaN      2861.53    117.5          28.24   \n",
       "9  4000000019182906B   A505    NaN  NaN      2861.53   114.65          17.48   \n",
       "\n",
       "   Vehicle count  Avg speed (mph)  \n",
       "0            156            57.46  \n",
       "1             72            56.12  \n",
       "2             94            48.07  \n",
       "3             50            46.71  \n",
       "4            232            51.66  \n",
       "5             54            48.97  \n",
       "6            585            58.21  \n",
       "7            281            58.63  \n",
       "8            681            54.48  \n",
       "9            391            55.83  "
      ]
     },
     "execution_count": 55,
     "metadata": {},
     "output_type": "execute_result"
    }
   ],
   "source": [
    "first_report.head(10)"
   ]
  },
  {
   "cell_type": "code",
   "execution_count": 56,
   "metadata": {},
   "outputs": [],
   "source": [
    "csv_header_tup = ''\n",
    "i = 0\n",
    "for col in first_report.columns: \n",
    "    if i == 0:\n",
    "        csv_header_tup = str(col)\n",
    "        i=i+1\n",
    "    else:\n",
    "        csv_header_tup = csv_header_tup + \",\" + str(col)"
   ]
  },
  {
   "cell_type": "code",
   "execution_count": 57,
   "metadata": {},
   "outputs": [
    {
     "data": {
      "text/plain": [
       "'LinkID,RNum,Start,End,Link length,Time (s),Stnd deviation,Vehicle count,Avg speed (mph)'"
      ]
     },
     "execution_count": 57,
     "metadata": {},
     "output_type": "execute_result"
    }
   ],
   "source": [
    "csv_header_tup"
   ]
  },
  {
   "cell_type": "code",
   "execution_count": 58,
   "metadata": {},
   "outputs": [],
   "source": [
    "csv_header= ''.join((csv_header_tup))"
   ]
  },
  {
   "cell_type": "code",
   "execution_count": 78,
   "metadata": {},
   "outputs": [],
   "source": [
    "#csv_header_tup= 'Outstation', 'DateTime','Ground1','Ground2','Ground3','Ground4','Dew Temp','Air Temp','Deep','Deep2','Wind Speed','Condition1','Condition2','Condition3','Condition4','St1','St2','St3','St4','Rel Humidity','Precip','Rain','WDC','WDR','Wind Gust','Volts','Film','Salt Condn','Fault','Visibility'\n",
    "#csv_header= ','.join((csv_header_tup))"
   ]
  },
  {
   "cell_type": "code",
   "execution_count": 59,
   "metadata": {},
   "outputs": [
    {
     "data": {
      "text/plain": [
       "'LinkID,RNum,Start,End,Link length,Time (s),Stnd deviation,Vehicle count,Avg speed (mph)'"
      ]
     },
     "execution_count": 59,
     "metadata": {},
     "output_type": "execute_result"
    }
   ],
   "source": [
    "csv_header"
   ]
  },
  {
   "cell_type": "code",
   "execution_count": 62,
   "metadata": {},
   "outputs": [
    {
     "name": "stdout",
     "output_type": "stream",
     "text": [
      "C:\\Users\\J FernandezGomez\\Jupyter Notebooks\\Cleaning_Data_Notebooks\\5_Traffic_Master\n"
     ]
    }
   ],
   "source": [
    "csv_out = 'trafficmaster_consolidated.csv'\n",
    "\n",
    "csv_dir = os.getcwd()\n",
    "\n",
    "dir_tree = os.walk(csv_dir)\n",
    "for dirpath, dirnames, filenames in dir_tree:\n",
    "   pass\n",
    "\n",
    "csv_list = []\n",
    "for file in filenames:\n",
    "   if file.endswith('.csv'):\n",
    "      csv_list.append(file)\n",
    "\n",
    "print(csv_dir)"
   ]
  },
  {
   "cell_type": "code",
   "execution_count": 63,
   "metadata": {},
   "outputs": [
    {
     "name": "stdout",
     "output_type": "stream",
     "text": [
      "['Main 0005.csv', 'Main 1617.csv', 'Main 1618.csv', 'Main 1619.csv', 'Main 1718.csv', 'Main 1921 Summer.csv', 'Main 710.csv', 'Main 78.csv', 'Main 79.csv', 'Main 89.csv', 'Main 910.csv', 'main1215.csv']\n"
     ]
    }
   ],
   "source": [
    "print(csv_list)"
   ]
  },
  {
   "cell_type": "code",
   "execution_count": 64,
   "metadata": {},
   "outputs": [
    {
     "data": {
      "text/plain": [
       "1"
      ]
     },
     "execution_count": 64,
     "metadata": {},
     "output_type": "execute_result"
    }
   ],
   "source": [
    "csv_merge = open(csv_out, 'w', encoding = 'raw_unicode_escape')\n",
    "csv_merge.write(csv_header)\n",
    "csv_merge.write('\\n')"
   ]
  },
  {
   "cell_type": "code",
   "execution_count": 65,
   "metadata": {},
   "outputs": [
    {
     "name": "stdout",
     "output_type": "stream",
     "text": [
      "Verify consolidated CSV file : trafficmaster_consolidated.csv\n"
     ]
    }
   ],
   "source": [
    "if csv_merge.closed:\n",
    "  print(\"Forking file is closed now\")\n",
    "for file in csv_list:\n",
    "   csv_in = open(file, encoding = 'raw_unicode_escape', errors = 'ignore')\n",
    "   for line in csv_in:\n",
    "      if line.startswith(csv_header):\n",
    "         continue\n",
    "      if csv_merge.closed:\n",
    "         print(\"Forking file is closed\")\n",
    "      else:\n",
    "         csv_merge.write(line)\n",
    "   csv_in.close()\n",
    "csv_merge.close()\n",
    "print('Verify consolidated CSV file : ' + csv_out)"
   ]
  },
  {
   "cell_type": "code",
   "execution_count": 71,
   "metadata": {
    "scrolled": true
   },
   "outputs": [
    {
     "name": "stderr",
     "output_type": "stream",
     "text": [
      "C:\\Users\\J FernandezGomez\\AppData\\Local\\Continuum\\anaconda3\\lib\\site-packages\\IPython\\core\\interactiveshell.py:3058: DtypeWarning: Columns (1,5,6) have mixed types. Specify dtype option on import or set low_memory=False.\n",
      "  interactivity=interactivity, compiler=compiler, result=result)\n"
     ]
    },
    {
     "data": {
      "text/plain": [
       "(4465884, 9)"
      ]
     },
     "execution_count": 71,
     "metadata": {},
     "output_type": "execute_result"
    }
   ],
   "source": [
    "#Load the consolidated dataframe and check its size to validate\n",
    "df = pd.read_csv(\"trafficmaster_consolidated.csv\", \n",
    "                 encoding = 'raw_unicode_escape', \n",
    "                 header = 0, \n",
    "                 usecols = ['LinkID','RNum','Start','End','Link length','Time (s)','Stnd deviation',\n",
    "                            'Vehicle count','Avg speed (mph)'])\n",
    "df.shape"
   ]
  },
  {
   "cell_type": "code",
   "execution_count": 72,
   "metadata": {},
   "outputs": [
    {
     "data": {
      "text/html": [
       "<div>\n",
       "<style scoped>\n",
       "    .dataframe tbody tr th:only-of-type {\n",
       "        vertical-align: middle;\n",
       "    }\n",
       "\n",
       "    .dataframe tbody tr th {\n",
       "        vertical-align: top;\n",
       "    }\n",
       "\n",
       "    .dataframe thead th {\n",
       "        text-align: right;\n",
       "    }\n",
       "</style>\n",
       "<table border=\"1\" class=\"dataframe\">\n",
       "  <thead>\n",
       "    <tr style=\"text-align: right;\">\n",
       "      <th></th>\n",
       "      <th>LinkID</th>\n",
       "      <th>RNum</th>\n",
       "      <th>Start</th>\n",
       "      <th>End</th>\n",
       "      <th>Link length</th>\n",
       "      <th>Time (s)</th>\n",
       "      <th>Stnd deviation</th>\n",
       "      <th>Vehicle count</th>\n",
       "      <th>Avg speed (mph)</th>\n",
       "    </tr>\n",
       "  </thead>\n",
       "  <tbody>\n",
       "    <tr>\n",
       "      <td>0</td>\n",
       "      <td>4000000019182893A</td>\n",
       "      <td>B488</td>\n",
       "      <td>NaN</td>\n",
       "      <td>NaN</td>\n",
       "      <td>1425.39</td>\n",
       "      <td>55.49</td>\n",
       "      <td>10.61</td>\n",
       "      <td>156</td>\n",
       "      <td>57.46</td>\n",
       "    </tr>\n",
       "    <tr>\n",
       "      <td>1</td>\n",
       "      <td>4000000019182893B</td>\n",
       "      <td>B488</td>\n",
       "      <td>NaN</td>\n",
       "      <td>NaN</td>\n",
       "      <td>1425.39</td>\n",
       "      <td>56.82</td>\n",
       "      <td>13.5</td>\n",
       "      <td>72</td>\n",
       "      <td>56.12</td>\n",
       "    </tr>\n",
       "    <tr>\n",
       "      <td>2</td>\n",
       "      <td>4000000019182895A</td>\n",
       "      <td>B488</td>\n",
       "      <td>NaN</td>\n",
       "      <td>NaN</td>\n",
       "      <td>783.44</td>\n",
       "      <td>36.46</td>\n",
       "      <td>6.18</td>\n",
       "      <td>94</td>\n",
       "      <td>48.07</td>\n",
       "    </tr>\n",
       "    <tr>\n",
       "      <td>3</td>\n",
       "      <td>4000000019182895B</td>\n",
       "      <td>B488</td>\n",
       "      <td>NaN</td>\n",
       "      <td>NaN</td>\n",
       "      <td>783.44</td>\n",
       "      <td>37.52</td>\n",
       "      <td>8.04</td>\n",
       "      <td>50</td>\n",
       "      <td>46.71</td>\n",
       "    </tr>\n",
       "    <tr>\n",
       "      <td>4</td>\n",
       "      <td>4000000019182897A</td>\n",
       "      <td>A4146</td>\n",
       "      <td>NaN</td>\n",
       "      <td>NaN</td>\n",
       "      <td>931.75</td>\n",
       "      <td>40.35</td>\n",
       "      <td>5.15</td>\n",
       "      <td>232</td>\n",
       "      <td>51.66</td>\n",
       "    </tr>\n",
       "  </tbody>\n",
       "</table>\n",
       "</div>"
      ],
      "text/plain": [
       "              LinkID   RNum  Start  End  Link length Time (s) Stnd deviation  \\\n",
       "0  4000000019182893A   B488    NaN  NaN      1425.39    55.49          10.61   \n",
       "1  4000000019182893B   B488    NaN  NaN      1425.39    56.82           13.5   \n",
       "2  4000000019182895A   B488    NaN  NaN       783.44    36.46           6.18   \n",
       "3  4000000019182895B   B488    NaN  NaN       783.44    37.52           8.04   \n",
       "4  4000000019182897A  A4146    NaN  NaN       931.75    40.35           5.15   \n",
       "\n",
       "   Vehicle count  Avg speed (mph)  \n",
       "0            156            57.46  \n",
       "1             72            56.12  \n",
       "2             94            48.07  \n",
       "3             50            46.71  \n",
       "4            232            51.66  "
      ]
     },
     "execution_count": 72,
     "metadata": {},
     "output_type": "execute_result"
    }
   ],
   "source": [
    "#Review a sample of the data to confirm\n",
    "df.head(5)"
   ]
  },
  {
   "cell_type": "code",
   "execution_count": 73,
   "metadata": {},
   "outputs": [
    {
     "data": {
      "text/plain": [
       "Index(['LinkID', 'RNum', 'Start', 'End', 'Link length', 'Time (s)',\n",
       "       'Stnd deviation', 'Vehicle count', 'Avg speed (mph)'],\n",
       "      dtype='object')"
      ]
     },
     "execution_count": 73,
     "metadata": {},
     "output_type": "execute_result"
    }
   ],
   "source": [
    "df.columns"
   ]
  }
 ],
 "metadata": {
  "kernelspec": {
   "display_name": "Python 3",
   "language": "python",
   "name": "python3"
  },
  "language_info": {
   "codemirror_mode": {
    "name": "ipython",
    "version": 3
   },
   "file_extension": ".py",
   "mimetype": "text/x-python",
   "name": "python",
   "nbconvert_exporter": "python",
   "pygments_lexer": "ipython3",
   "version": "3.7.4"
  }
 },
 "nbformat": 4,
 "nbformat_minor": 2
}
