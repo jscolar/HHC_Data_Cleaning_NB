{
 "cells": [
  {
   "cell_type": "code",
   "execution_count": 1,
   "metadata": {},
   "outputs": [],
   "source": [
    "import pandas as pd\n",
    "import csv\n",
    "import os"
   ]
  },
  {
   "cell_type": "code",
   "execution_count": 2,
   "metadata": {},
   "outputs": [],
   "source": [
    "#Activate the first option if whole column width is necessary and the second to make all columns visible\n",
    "#pd.set_option('display.max_colwidth', -1)\n",
    "#pd.set_option('display.max_columns', 999)"
   ]
  },
  {
   "cell_type": "markdown",
   "metadata": {},
   "source": [
    "## I. Import the dataset and filter the relevant columns"
   ]
  },
  {
   "cell_type": "code",
   "execution_count": 26,
   "metadata": {},
   "outputs": [
    {
     "data": {
      "text/plain": [
       "Index(['OBJECTID', 'ASSET_ID', 'FEATURE_ID', 'SITE_CODE', 'SITE_NAME',\n",
       "       'LOCALITY', 'TOWN', 'LOCATION', 'ROADCLASS', 'HIERARCHY', 'CUSTOMER',\n",
       "       'AREA_NAME', 'DISTANCE', 'ROAD_TYPE', 'Shape_STLength_1', 'Confidence',\n",
       "       'AADT_Comb', 'AADT_Source_Comb', 'AADT_Source_Type', 'ModifiedDate',\n",
       "       'Checked', 'SurveyID', 'SurveyDate', 'Comments', 'Shape_Length_1',\n",
       "       'Shape_Length'],\n",
       "      dtype='object')"
      ]
     },
     "execution_count": 26,
     "metadata": {},
     "output_type": "execute_result"
    }
   ],
   "source": [
    "#Get the report and store it into a dataframe. Check what columns are included in the file\n",
    "report = pd.read_csv('4_Dtims_Jan2020_AADT.csv', dtype = str)\n",
    "report.columns"
   ]
  },
  {
   "cell_type": "code",
   "execution_count": 27,
   "metadata": {},
   "outputs": [],
   "source": [
    "#Drop the irrelevant attributes, validated by an SME, and remove whitespaces\n",
    "report.drop(columns = ['OBJECTID','ASSET_ID','LOCALITY','LOCATION','Shape_STLength_1', 'SurveyDate'], inplace = True ) \n",
    "#Get rid of all Shape legth"
   ]
  },
  {
   "cell_type": "code",
   "execution_count": 28,
   "metadata": {},
   "outputs": [],
   "source": [
    "#Remove all whitespaces from column names\n",
    "report.columns = [x.replace(\" \", \"\") for x in report.columns]"
   ]
  },
  {
   "cell_type": "code",
   "execution_count": 29,
   "metadata": {},
   "outputs": [
    {
     "data": {
      "text/plain": [
       "Index(['FEATURE_ID', 'SITE_CODE', 'SITE_NAME', 'TOWN', 'ROADCLASS',\n",
       "       'HIERARCHY', 'AREA_NAME', 'DISTANCE', 'ROAD_TYPE', 'Confidence',\n",
       "       'AADT_Comb', 'AADT_Source_Comb', 'AADT_Source_Type', 'ModifiedDate',\n",
       "       'Checked', 'SurveyID', 'Comments', 'Shape_Length_1', 'Shape_Length'],\n",
       "      dtype='object')"
      ]
     },
     "execution_count": 29,
     "metadata": {},
     "output_type": "execute_result"
    }
   ],
   "source": [
    "#Validate with the SME that all the remaining columns are relevant.\n",
    "report.columns"
   ]
  },
  {
   "cell_type": "markdown",
   "metadata": {},
   "source": [
    "## II. Identify the key feature and format it to avoid empty cells and multiple values per row"
   ]
  },
  {
   "cell_type": "code",
   "execution_count": 30,
   "metadata": {},
   "outputs": [],
   "source": [
    "#Drop all rows that are empty and drop all duplicate rows\n",
    "report.dropna(axis=0, how='all', inplace=True)\n",
    "report.drop_duplicates(inplace=True)"
   ]
  },
  {
   "cell_type": "code",
   "execution_count": 31,
   "metadata": {},
   "outputs": [
    {
     "data": {
      "text/plain": [
       "(19602, 19)"
      ]
     },
     "execution_count": 31,
     "metadata": {},
     "output_type": "execute_result"
    }
   ],
   "source": [
    "#Just to reuse the code of previous scripts\n",
    "report_mod = report\n",
    "report_mod.shape"
   ]
  },
  {
   "cell_type": "code",
   "execution_count": 32,
   "metadata": {},
   "outputs": [
    {
     "data": {
      "text/plain": [
       "0"
      ]
     },
     "execution_count": 32,
     "metadata": {},
     "output_type": "execute_result"
    }
   ],
   "source": [
    "#Count the number of cells that are null within the key feature\n",
    "report_mod['FEATURE_ID'].isnull().sum()"
   ]
  },
  {
   "cell_type": "code",
   "execution_count": 38,
   "metadata": {},
   "outputs": [
    {
     "data": {
      "text/plain": [
       "753"
      ]
     },
     "execution_count": 38,
     "metadata": {},
     "output_type": "execute_result"
    }
   ],
   "source": [
    "#Count the number of cells that are null within the AADT_Count ***VALIDATE. WHAT DO WE DO WITH THE NULL VALUES?***\n",
    "report_mod['AADT_Comb'].isnull().sum()"
   ]
  },
  {
   "cell_type": "markdown",
   "metadata": {},
   "source": [
    "## 3. Filter the possible values for the relevant attributes"
   ]
  },
  {
   "cell_type": "markdown",
   "metadata": {},
   "source": [
    "#### Road Class"
   ]
  },
  {
   "cell_type": "code",
   "execution_count": 33,
   "metadata": {},
   "outputs": [
    {
     "data": {
      "text/plain": [
       "ROADCLASS\n",
       "Unclassified Road - U           16617\n",
       "Unnumbered Classified Rd - C     1223\n",
       "Principal Road - A               1200\n",
       "Numbered Classified Road - B      541\n",
       "Not Allocated                      21\n",
       "dtype: int64"
      ]
     },
     "execution_count": 33,
     "metadata": {},
     "output_type": "execute_result"
    }
   ],
   "source": [
    "#Check the possible values for the relevant features and their count and sort them:\n",
    "report_mod.groupby(['ROADCLASS'],as_index = False).size().sort_values(ascending = False)"
   ]
  },
  {
   "cell_type": "markdown",
   "metadata": {},
   "source": [
    "#### Hierarchy"
   ]
  },
  {
   "cell_type": "code",
   "execution_count": 49,
   "metadata": {},
   "outputs": [
    {
     "data": {
      "text/plain": [
       "HIERARCHY\n",
       "L2 Local Access             16588\n",
       "L1 Local Distributor         1119\n",
       "MN Main Distributor           847\n",
       "SD Secondary Distributor      641\n",
       "PR Primary Distributor        353\n",
       "dtype: int64"
      ]
     },
     "execution_count": 49,
     "metadata": {},
     "output_type": "execute_result"
    }
   ],
   "source": [
    "#Check the possible values for the relevant features and their count and sort them: ##VALIDATE WITH SME **GET DIR OF L3 Surfaced\n",
    "report_mod.groupby(['HIERARCHY'],as_index = False).size().sort_values(ascending = False)"
   ]
  },
  {
   "cell_type": "code",
   "execution_count": 48,
   "metadata": {},
   "outputs": [],
   "source": [
    "#Drop the instances that are out of scope, categorized by feature\n",
    "filter_list = ['L3 Surfaced PRoW','No Code Allocated']\n",
    "report_mod = report_mod[~report_mod.HIERARCHY.isin(filter_list)]\n",
    "report_mod = report_mod.reset_index(drop=True)"
   ]
  },
  {
   "cell_type": "markdown",
   "metadata": {},
   "source": [
    "#### Road Type"
   ]
  },
  {
   "cell_type": "code",
   "execution_count": 37,
   "metadata": {},
   "outputs": [
    {
     "data": {
      "text/plain": [
       "ROAD_TYPE\n",
       "Single 2-Lane Carriageway         17598\n",
       "Dual 2 Lane                         450\n",
       "Single Lane Carriageway             425\n",
       "Roundabout                          410\n",
       "Carriageway Oneway 2-Lane           286\n",
       "Carriageway Oneway 1-Lane           199\n",
       "Slip/Feeder Road Oneway 2-Lane       50\n",
       "Slip/Feeder Road Oneway 1-Lane       48\n",
       "Carriageway Oxbow-Layby              48\n",
       "Slip/Feeder Road Single 2-Lane       13\n",
       "Dual 1 Lane                          13\n",
       "Dual 3 Lane                          10\n",
       "Carriageway Oneway 3-Lane             7\n",
       "Single 3-Lane Carriageway             4\n",
       "Slip/Feeder Road Dual 2-Lane          2\n",
       "Bridleway                             2\n",
       "dtype: int64"
      ]
     },
     "execution_count": 37,
     "metadata": {},
     "output_type": "execute_result"
    }
   ],
   "source": [
    "#Check the possible values for the relevant features and their count and sort them: ##VALIDATE WITH SME\n",
    "#Sli´p/Feeder both remove\n",
    "report_mod.groupby(['ROAD_TYPE'],as_index = False).size().sort_values(ascending = False)"
   ]
  },
  {
   "cell_type": "code",
   "execution_count": 36,
   "metadata": {},
   "outputs": [],
   "source": [
    "#Drop the instances that are out of scope, categorized by feature\n",
    "filter_list = ['Footpath','BOAT','Shared Cycleway Footway']\n",
    "report_mod = report_mod[~report_mod.ROAD_TYPE.isin(filter_list)]\n",
    "report_mod = report_mod.reset_index(drop=True)"
   ]
  },
  {
   "cell_type": "markdown",
   "metadata": {},
   "source": [
    "#### Confidence"
   ]
  },
  {
   "cell_type": "code",
   "execution_count": 39,
   "metadata": {},
   "outputs": [
    {
     "data": {
      "text/plain": [
       "Confidence\n",
       "Level 0    16125\n",
       "Level 1     2431\n",
       "Level 3      164\n",
       "Level 2       65\n",
       "2004          13\n",
       "2014           7\n",
       "2013           4\n",
       "2012           4\n",
       "dtype: int64"
      ]
     },
     "execution_count": 39,
     "metadata": {},
     "output_type": "execute_result"
    }
   ],
   "source": [
    "#Check the possible values for the relevant features and their count and sort them: ##VALIDATE WITH SME\n",
    "report_mod.groupby(['Confidence'],as_index = False).size().sort_values(ascending = False)"
   ]
  },
  {
   "cell_type": "code",
   "execution_count": 45,
   "metadata": {},
   "outputs": [
    {
     "data": {
      "text/html": [
       "<div>\n",
       "<style scoped>\n",
       "    .dataframe tbody tr th:only-of-type {\n",
       "        vertical-align: middle;\n",
       "    }\n",
       "\n",
       "    .dataframe tbody tr th {\n",
       "        vertical-align: top;\n",
       "    }\n",
       "\n",
       "    .dataframe thead th {\n",
       "        text-align: right;\n",
       "    }\n",
       "</style>\n",
       "<table border=\"1\" class=\"dataframe\">\n",
       "  <thead>\n",
       "    <tr style=\"text-align: right;\">\n",
       "      <th></th>\n",
       "      <th>FEATURE_ID</th>\n",
       "      <th>SITE_CODE</th>\n",
       "      <th>SITE_NAME</th>\n",
       "      <th>TOWN</th>\n",
       "      <th>ROADCLASS</th>\n",
       "      <th>HIERARCHY</th>\n",
       "      <th>AREA_NAME</th>\n",
       "      <th>DISTANCE</th>\n",
       "      <th>ROAD_TYPE</th>\n",
       "      <th>Confidence</th>\n",
       "      <th>AADT_Comb</th>\n",
       "      <th>AADT_Source_Comb</th>\n",
       "      <th>AADT_Source_Type</th>\n",
       "      <th>ModifiedDate</th>\n",
       "      <th>Checked</th>\n",
       "      <th>SurveyID</th>\n",
       "      <th>Comments</th>\n",
       "      <th>Shape_Length_1</th>\n",
       "      <th>Shape_Length</th>\n",
       "    </tr>\n",
       "  </thead>\n",
       "  <tbody>\n",
       "    <tr>\n",
       "      <td>760</td>\n",
       "      <td>A120/110</td>\n",
       "      <td>12401698</td>\n",
       "      <td>Bishops Stortford Bypass</td>\n",
       "      <td>Bishop's Stortford</td>\n",
       "      <td>Principal Road - A</td>\n",
       "      <td>PR Primary Distributor</td>\n",
       "      <td>E: 3-East Herts District</td>\n",
       "      <td>1747</td>\n",
       "      <td>Single 2-Lane Carriageway</td>\n",
       "      <td>2013</td>\n",
       "      <td>18259</td>\n",
       "      <td>2013 site 599</td>\n",
       "      <td>Actual Count</td>\n",
       "      <td>2017-05-03 12:32</td>\n",
       "      <td>Y</td>\n",
       "      <td>NaN</td>\n",
       "      <td>NaN</td>\n",
       "      <td>1865.752903</td>\n",
       "      <td>1747.442706</td>\n",
       "    </tr>\n",
       "    <tr>\n",
       "      <td>766</td>\n",
       "      <td>B158/310</td>\n",
       "      <td>43070144</td>\n",
       "      <td>B158 between East Hertfordshire boundary and H...</td>\n",
       "      <td>Hatfield</td>\n",
       "      <td>Numbered Classified Road - B</td>\n",
       "      <td>SD Secondary Distributor</td>\n",
       "      <td>MW: 0-Welwyn Hatfield Area</td>\n",
       "      <td>565</td>\n",
       "      <td>Single 2-Lane Carriageway</td>\n",
       "      <td>2004</td>\n",
       "      <td>6120</td>\n",
       "      <td>2004 Traffic Counts</td>\n",
       "      <td>Actual Count</td>\n",
       "      <td>2017-05-03 12:12</td>\n",
       "      <td>Y</td>\n",
       "      <td>NaN</td>\n",
       "      <td>NaN</td>\n",
       "      <td>570.2611014</td>\n",
       "      <td>570.2611014</td>\n",
       "    </tr>\n",
       "    <tr>\n",
       "      <td>2068</td>\n",
       "      <td>A414/700</td>\n",
       "      <td>12414873</td>\n",
       "      <td>Rush Green Link</td>\n",
       "      <td>Hertford</td>\n",
       "      <td>Principal Road - A</td>\n",
       "      <td>PR Primary Distributor</td>\n",
       "      <td>E: 3-East Herts District</td>\n",
       "      <td>1343</td>\n",
       "      <td>Dual 2 Lane</td>\n",
       "      <td>2012</td>\n",
       "      <td>15480</td>\n",
       "      <td>2012 site 540 EB</td>\n",
       "      <td>Actual Count</td>\n",
       "      <td>2017-05-03 12:15</td>\n",
       "      <td>Y</td>\n",
       "      <td>NaN</td>\n",
       "      <td>NaN</td>\n",
       "      <td>1346.524698</td>\n",
       "      <td>1346.524698</td>\n",
       "    </tr>\n",
       "    <tr>\n",
       "      <td>2070</td>\n",
       "      <td>A414/701</td>\n",
       "      <td>12414873</td>\n",
       "      <td>Rush Green Link</td>\n",
       "      <td>Hertford</td>\n",
       "      <td>Principal Road - A</td>\n",
       "      <td>PR Primary Distributor</td>\n",
       "      <td>E: 3-East Herts District</td>\n",
       "      <td>1368</td>\n",
       "      <td>Dual 2 Lane</td>\n",
       "      <td>2012</td>\n",
       "      <td>18454</td>\n",
       "      <td>2012 site 540 WB</td>\n",
       "      <td>Actual Count</td>\n",
       "      <td>2017-05-03 12:15</td>\n",
       "      <td>Y</td>\n",
       "      <td>NaN</td>\n",
       "      <td>NaN</td>\n",
       "      <td>1356.797996</td>\n",
       "      <td>1356.797996</td>\n",
       "    </tr>\n",
       "    <tr>\n",
       "      <td>2117</td>\n",
       "      <td>B158/710</td>\n",
       "      <td>12420902</td>\n",
       "      <td>Wadesmill Road</td>\n",
       "      <td>Chapmore End</td>\n",
       "      <td>Numbered Classified Road - B</td>\n",
       "      <td>SD Secondary Distributor</td>\n",
       "      <td>E: 3-East Herts District</td>\n",
       "      <td>1563</td>\n",
       "      <td>Single 2-Lane Carriageway</td>\n",
       "      <td>2014</td>\n",
       "      <td>6290</td>\n",
       "      <td>2014 site 307</td>\n",
       "      <td>Actual Count</td>\n",
       "      <td>2017-05-03 12:42</td>\n",
       "      <td>Y</td>\n",
       "      <td>NaN</td>\n",
       "      <td>NaN</td>\n",
       "      <td>1552.809283</td>\n",
       "      <td>1552.809283</td>\n",
       "    </tr>\n",
       "    <tr>\n",
       "      <td>2204</td>\n",
       "      <td>B1004/920</td>\n",
       "      <td>12414954</td>\n",
       "      <td>Rye Street</td>\n",
       "      <td>Bishop's Stortford</td>\n",
       "      <td>Numbered Classified Road - B</td>\n",
       "      <td>SD Secondary Distributor</td>\n",
       "      <td>E: 3-East Herts District</td>\n",
       "      <td>189</td>\n",
       "      <td>Single 2-Lane Carriageway</td>\n",
       "      <td>2004</td>\n",
       "      <td>9348</td>\n",
       "      <td>2004 Traffic Counts</td>\n",
       "      <td>Actual Count</td>\n",
       "      <td>2017-05-03 12:37</td>\n",
       "      <td>Y</td>\n",
       "      <td>NaN</td>\n",
       "      <td>NaN</td>\n",
       "      <td>209.2632048</td>\n",
       "      <td>189.4853178</td>\n",
       "    </tr>\n",
       "    <tr>\n",
       "      <td>2206</td>\n",
       "      <td>B1037/110</td>\n",
       "      <td>12425007</td>\n",
       "      <td>Stevenage Road</td>\n",
       "      <td>Walkern</td>\n",
       "      <td>Numbered Classified Road - B</td>\n",
       "      <td>SD Secondary Distributor</td>\n",
       "      <td>E: 3-East Herts District</td>\n",
       "      <td>1516</td>\n",
       "      <td>Single 2-Lane Carriageway</td>\n",
       "      <td>2004</td>\n",
       "      <td>5646</td>\n",
       "      <td>2004 Traffic Counts</td>\n",
       "      <td>Actual Count</td>\n",
       "      <td>2017-05-03 14:03</td>\n",
       "      <td>Y</td>\n",
       "      <td>NaN</td>\n",
       "      <td>NaN</td>\n",
       "      <td>1515.989231</td>\n",
       "      <td>1515.989231</td>\n",
       "    </tr>\n",
       "    <tr>\n",
       "      <td>2214</td>\n",
       "      <td>B1038/50</td>\n",
       "      <td>12403065</td>\n",
       "      <td>B1038 From Its Junction With Biggin Hill To An...</td>\n",
       "      <td>Buntingford</td>\n",
       "      <td>Numbered Classified Road - B</td>\n",
       "      <td>SD Secondary Distributor</td>\n",
       "      <td>E: 3-East Herts District</td>\n",
       "      <td>257</td>\n",
       "      <td>Single 2-Lane Carriageway</td>\n",
       "      <td>2004</td>\n",
       "      <td>1862</td>\n",
       "      <td>2004 Traffic Counts</td>\n",
       "      <td>Actual Count</td>\n",
       "      <td>2017-05-03 12:47</td>\n",
       "      <td>Y</td>\n",
       "      <td>NaN</td>\n",
       "      <td>NaN</td>\n",
       "      <td>256.9900257</td>\n",
       "      <td>256.9900257</td>\n",
       "    </tr>\n",
       "    <tr>\n",
       "      <td>2224</td>\n",
       "      <td>B1368/30</td>\n",
       "      <td>12404960</td>\n",
       "      <td>Dassels Hill</td>\n",
       "      <td>Dassels</td>\n",
       "      <td>Numbered Classified Road - B</td>\n",
       "      <td>SD Secondary Distributor</td>\n",
       "      <td>E: 3-East Herts District</td>\n",
       "      <td>419</td>\n",
       "      <td>Single 2-Lane Carriageway</td>\n",
       "      <td>2004</td>\n",
       "      <td>2641</td>\n",
       "      <td>2004 Traffic Counts</td>\n",
       "      <td>Actual Count</td>\n",
       "      <td>2017-05-03 12:48</td>\n",
       "      <td>Y</td>\n",
       "      <td>NaN</td>\n",
       "      <td>NaN</td>\n",
       "      <td>406.5598586</td>\n",
       "      <td>406.5598586</td>\n",
       "    </tr>\n",
       "    <tr>\n",
       "      <td>2837</td>\n",
       "      <td>A1184/60</td>\n",
       "      <td>12410490</td>\n",
       "      <td>London Road</td>\n",
       "      <td>Spellbrook</td>\n",
       "      <td>Principal Road - A</td>\n",
       "      <td>MN Main Distributor</td>\n",
       "      <td>E: 3-East Herts District</td>\n",
       "      <td>645</td>\n",
       "      <td>Single 2-Lane Carriageway</td>\n",
       "      <td>2004</td>\n",
       "      <td>20024</td>\n",
       "      <td>2004 Traffic Counts</td>\n",
       "      <td>Actual Count</td>\n",
       "      <td>2017-05-03 12:31</td>\n",
       "      <td>Y</td>\n",
       "      <td>NaN</td>\n",
       "      <td>NaN</td>\n",
       "      <td>562.9987121</td>\n",
       "      <td>564.3757668</td>\n",
       "    </tr>\n",
       "  </tbody>\n",
       "</table>\n",
       "</div>"
      ],
      "text/plain": [
       "     FEATURE_ID SITE_CODE                                          SITE_NAME  \\\n",
       "760    A120/110  12401698                           Bishops Stortford Bypass   \n",
       "766    B158/310  43070144  B158 between East Hertfordshire boundary and H...   \n",
       "2068   A414/700  12414873                                    Rush Green Link   \n",
       "2070   A414/701  12414873                                    Rush Green Link   \n",
       "2117   B158/710  12420902                                     Wadesmill Road   \n",
       "2204  B1004/920  12414954                                         Rye Street   \n",
       "2206  B1037/110  12425007                                     Stevenage Road   \n",
       "2214   B1038/50  12403065  B1038 From Its Junction With Biggin Hill To An...   \n",
       "2224   B1368/30  12404960                                       Dassels Hill   \n",
       "2837   A1184/60  12410490                                        London Road   \n",
       "\n",
       "                    TOWN                     ROADCLASS  \\\n",
       "760   Bishop's Stortford            Principal Road - A   \n",
       "766             Hatfield  Numbered Classified Road - B   \n",
       "2068            Hertford            Principal Road - A   \n",
       "2070            Hertford            Principal Road - A   \n",
       "2117        Chapmore End  Numbered Classified Road - B   \n",
       "2204  Bishop's Stortford  Numbered Classified Road - B   \n",
       "2206             Walkern  Numbered Classified Road - B   \n",
       "2214         Buntingford  Numbered Classified Road - B   \n",
       "2224             Dassels  Numbered Classified Road - B   \n",
       "2837          Spellbrook            Principal Road - A   \n",
       "\n",
       "                     HIERARCHY                   AREA_NAME DISTANCE  \\\n",
       "760     PR Primary Distributor    E: 3-East Herts District     1747   \n",
       "766   SD Secondary Distributor  MW: 0-Welwyn Hatfield Area      565   \n",
       "2068    PR Primary Distributor    E: 3-East Herts District     1343   \n",
       "2070    PR Primary Distributor    E: 3-East Herts District     1368   \n",
       "2117  SD Secondary Distributor    E: 3-East Herts District     1563   \n",
       "2204  SD Secondary Distributor    E: 3-East Herts District      189   \n",
       "2206  SD Secondary Distributor    E: 3-East Herts District     1516   \n",
       "2214  SD Secondary Distributor    E: 3-East Herts District      257   \n",
       "2224  SD Secondary Distributor    E: 3-East Herts District      419   \n",
       "2837       MN Main Distributor    E: 3-East Herts District      645   \n",
       "\n",
       "                      ROAD_TYPE Confidence AADT_Comb     AADT_Source_Comb  \\\n",
       "760   Single 2-Lane Carriageway       2013     18259        2013 site 599   \n",
       "766   Single 2-Lane Carriageway       2004      6120  2004 Traffic Counts   \n",
       "2068                Dual 2 Lane       2012     15480     2012 site 540 EB   \n",
       "2070                Dual 2 Lane       2012     18454     2012 site 540 WB   \n",
       "2117  Single 2-Lane Carriageway       2014      6290        2014 site 307   \n",
       "2204  Single 2-Lane Carriageway       2004      9348  2004 Traffic Counts   \n",
       "2206  Single 2-Lane Carriageway       2004      5646  2004 Traffic Counts   \n",
       "2214  Single 2-Lane Carriageway       2004      1862  2004 Traffic Counts   \n",
       "2224  Single 2-Lane Carriageway       2004      2641  2004 Traffic Counts   \n",
       "2837  Single 2-Lane Carriageway       2004     20024  2004 Traffic Counts   \n",
       "\n",
       "     AADT_Source_Type      ModifiedDate Checked SurveyID Comments  \\\n",
       "760      Actual Count  2017-05-03 12:32       Y      NaN      NaN   \n",
       "766      Actual Count  2017-05-03 12:12       Y      NaN      NaN   \n",
       "2068     Actual Count  2017-05-03 12:15       Y      NaN      NaN   \n",
       "2070     Actual Count  2017-05-03 12:15       Y      NaN      NaN   \n",
       "2117     Actual Count  2017-05-03 12:42       Y      NaN      NaN   \n",
       "2204     Actual Count  2017-05-03 12:37       Y      NaN      NaN   \n",
       "2206     Actual Count  2017-05-03 14:03       Y      NaN      NaN   \n",
       "2214     Actual Count  2017-05-03 12:47       Y      NaN      NaN   \n",
       "2224     Actual Count  2017-05-03 12:48       Y      NaN      NaN   \n",
       "2837     Actual Count  2017-05-03 12:31       Y      NaN      NaN   \n",
       "\n",
       "     Shape_Length_1 Shape_Length  \n",
       "760     1865.752903  1747.442706  \n",
       "766     570.2611014  570.2611014  \n",
       "2068    1346.524698  1346.524698  \n",
       "2070    1356.797996  1356.797996  \n",
       "2117    1552.809283  1552.809283  \n",
       "2204    209.2632048  189.4853178  \n",
       "2206    1515.989231  1515.989231  \n",
       "2214    256.9900257  256.9900257  \n",
       "2224    406.5598586  406.5598586  \n",
       "2837    562.9987121  564.3757668  "
      ]
     },
     "execution_count": 45,
     "metadata": {},
     "output_type": "execute_result"
    }
   ],
   "source": [
    "#Check the instances that correspond to the unusual confidence level **SEND TO TONY THE LEVEL NOT REGISTERED ()\n",
    "filter_confidence = ['2014', '2004','2013','2012']\n",
    "report_mod[report_mod['Confidence'].isin(filter_confidence)].head(10)\n"
   ]
  },
  {
   "cell_type": "code",
   "execution_count": 47,
   "metadata": {},
   "outputs": [],
   "source": [
    "to_tony = report_mod[report_mod['Confidence'].isin(filter_confidence)]\n",
    "to_tony.to_csv(r'C:\\Users\\J FernandezGomez\\Jupyter Notebooks\\Cleaning_Data_Notebooks\\4_Traffic_Count_AADT\\unusual_confidence_levels.csv')"
   ]
  },
  {
   "cell_type": "markdown",
   "metadata": {},
   "source": [
    "#### Source Type"
   ]
  },
  {
   "cell_type": "code",
   "execution_count": 46,
   "metadata": {},
   "outputs": [
    {
     "data": {
      "text/plain": [
       "AADT_Source_Type\n",
       "Default Value                          15092\n",
       "Actual Count                            2021\n",
       "Estimate                                1464\n",
       "Mean from actuals on THIS link only      231\n",
       "Local Estimate                             4\n",
       "Local estimate                             1\n",
       "dtype: int64"
      ]
     },
     "execution_count": 46,
     "metadata": {},
     "output_type": "execute_result"
    }
   ],
   "source": [
    "#Check the possible values for the relevant features and their count and sort them: ##VALIDATE WITH SME\n",
    "report_mod.groupby(['AADT_Source_Type'],as_index = False).size().sort_values(ascending = False)\n"
   ]
  },
  {
   "cell_type": "markdown",
   "metadata": {},
   "source": [
    "## Fill the blanks for rest of the categories with \"Undefined\""
   ]
  },
  {
   "cell_type": "code",
   "execution_count": 210,
   "metadata": {},
   "outputs": [],
   "source": [
    "report_mod['LatestWorksCost'].fillna(value = '0', inplace = True)\n",
    "report_mod.fillna(value = 'Undefined', inplace = True)"
   ]
  },
  {
   "cell_type": "markdown",
   "metadata": {},
   "source": [
    "### Save to a new CSV file "
   ]
  },
  {
   "cell_type": "code",
   "execution_count": 212,
   "metadata": {},
   "outputs": [],
   "source": [
    "report_mod.to_csv(r'C:\\Users\\J FernandezGomez\\Jupyter Notebooks\\Cleaning_Data_Notebooks\\4_Traffic_Count_AADT\\AADT_processed_v1.csv')"
   ]
  }
 ],
 "metadata": {
  "kernelspec": {
   "display_name": "Python 3",
   "language": "python",
   "name": "python3"
  },
  "language_info": {
   "codemirror_mode": {
    "name": "ipython",
    "version": 3
   },
   "file_extension": ".py",
   "mimetype": "text/x-python",
   "name": "python",
   "nbconvert_exporter": "python",
   "pygments_lexer": "ipython3",
   "version": "3.7.4"
  }
 },
 "nbformat": 4,
 "nbformat_minor": 2
}
