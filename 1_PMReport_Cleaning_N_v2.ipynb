{
 "cells": [
  {
   "cell_type": "code",
   "execution_count": 190,
   "metadata": {},
   "outputs": [],
   "source": [
    "import pandas as pd\n",
    "import csv\n",
    "import os"
   ]
  },
  {
   "cell_type": "code",
   "execution_count": 191,
   "metadata": {},
   "outputs": [],
   "source": [
    "#Activate the first option if whole column width is necessary and the second to make all columns visible\n",
    "#pd.set_option('display.max_colwidth', -1)\n",
    "#pd.set_option('display.max_columns', 999)"
   ]
  },
  {
   "cell_type": "markdown",
   "metadata": {},
   "source": [
    "## I. Import the dataset and filter the relevant columns"
   ]
  },
  {
   "cell_type": "code",
   "execution_count": 192,
   "metadata": {},
   "outputs": [
    {
     "data": {
      "text/plain": [
       "Index(['Data Source', 'Snapshot Date', 'Area', 'IWP Number', 'ProjectName',\n",
       "       '***Year***', 'Project Stage', 'Stage1aStart', 'Stage1aFinish',\n",
       "       'Stage1bFinish', 'Stage1cFinish', 'Stage2a Finish', 'Stage2b Finish',\n",
       "       'Stage2c Finish', 'Stage3a Finish', 'Stage3b Finish', 'Stage3c Finish',\n",
       "       'Stage4a Finish', 'Stage4b Start', 'Stage4b Finish', 'Stage4c Finish',\n",
       "       'Stage5a Finish', 'Stage5b Finish', 'Stage6 Finish',\n",
       "       'Latest Works Cost', 'Budget Code', 'Budget Head', 'Delivery Type',\n",
       "       'District', 'Town/Parish', 'Client Commissioning',\n",
       "       '***Assistant team leader***', 'Group sponsor', 'Project Manager',\n",
       "       'Team Leader', '***Assistant PM***', 'HertsHighways Comments', 'LTPF4',\n",
       "       'WBSNo', 'Hermis Order No', 'Order Value', 'Risk',\n",
       "       'Work Days To 4bStart', 'Work Days To 4bFinish',\n",
       "       'Work Days Works Duration', 'Calendar Days To 4bStart',\n",
       "       'Calendar Days To 4bFinish', 'Calendar Days Works Duration',\n",
       "       'CCDivision', 'IWPCode', 'IWPCodeDescription', 'TrafficMngmntNRSWA',\n",
       "       'UnitIDs', 'USRNs'],\n",
       "      dtype='object')"
      ]
     },
     "execution_count": 192,
     "metadata": {},
     "output_type": "execute_result"
    }
   ],
   "source": [
    "#Get the report and store it into a dataframe. Check what columns are included in the file\n",
    "report = pd.read_csv('1_PMNet_IWPReport.csv', dtype = str)\n",
    "report.columns"
   ]
  },
  {
   "cell_type": "code",
   "execution_count": 193,
   "metadata": {},
   "outputs": [],
   "source": [
    "#Drop the irrelevant attributes, validated by an SME, and remove whitespaces\n",
    "report.drop(columns = ['Data Source', 'Snapshot Date','Area', \n",
    "        'Budget Head', 'HertsHighways Comments', 'LTPF4',\n",
    "       'WBSNo', 'Hermis Order No', 'Order Value', 'Risk',\n",
    "       'Work Days To 4bStart', 'Work Days To 4bFinish',\n",
    "       'Work Days Works Duration', 'Calendar Days To 4bStart',\n",
    "       'Calendar Days To 4bFinish', 'Calendar Days Works Duration',\n",
    "       'IWPCodeDescription', 'TrafficMngmntNRSWA'], inplace = True ) "
   ]
  },
  {
   "cell_type": "code",
   "execution_count": 194,
   "metadata": {},
   "outputs": [],
   "source": [
    "#Remove all whitespaces from column names\n",
    "report.columns = [x.replace(\" \", \"\") for x in report.columns]"
   ]
  },
  {
   "cell_type": "code",
   "execution_count": 195,
   "metadata": {},
   "outputs": [
    {
     "data": {
      "text/plain": [
       "Index(['IWPNumber', 'ProjectName', '***Year***', 'ProjectStage',\n",
       "       'Stage1aStart', 'Stage1aFinish', 'Stage1bFinish', 'Stage1cFinish',\n",
       "       'Stage2aFinish', 'Stage2bFinish', 'Stage2cFinish', 'Stage3aFinish',\n",
       "       'Stage3bFinish', 'Stage3cFinish', 'Stage4aFinish', 'Stage4bStart',\n",
       "       'Stage4bFinish', 'Stage4cFinish', 'Stage5aFinish', 'Stage5bFinish',\n",
       "       'Stage6Finish', 'LatestWorksCost', 'BudgetCode', 'DeliveryType',\n",
       "       'District', 'Town/Parish', 'ClientCommissioning',\n",
       "       '***Assistantteamleader***', 'Groupsponsor', 'ProjectManager',\n",
       "       'TeamLeader', '***AssistantPM***', 'CCDivision', 'IWPCode', 'UnitIDs',\n",
       "       'USRNs'],\n",
       "      dtype='object')"
      ]
     },
     "execution_count": 195,
     "metadata": {},
     "output_type": "execute_result"
    }
   ],
   "source": [
    "#Validate with the SME that all the remaining columns are relevant\n",
    "report.columns"
   ]
  },
  {
   "cell_type": "markdown",
   "metadata": {},
   "source": [
    "## II. Identify the key feature and format it to avoid empty cells and multiple values per row"
   ]
  },
  {
   "cell_type": "code",
   "execution_count": 196,
   "metadata": {},
   "outputs": [],
   "source": [
    "#Drop all rows that are empty and drop all duplicate rows\n",
    "report.dropna(axis=0, how='all', inplace=True)\n",
    "report.drop_duplicates(inplace=True)"
   ]
  },
  {
   "cell_type": "code",
   "execution_count": 197,
   "metadata": {},
   "outputs": [
    {
     "data": {
      "text/plain": [
       "(65694, 36)"
      ]
     },
     "execution_count": 197,
     "metadata": {},
     "output_type": "execute_result"
    }
   ],
   "source": [
    "#Identify the key feature and split the cell if there are several values within one row\n",
    "s = report['UnitIDs'].str.split(';').apply(pd.Series, 1).stack()\n",
    "s.index = s.index.droplevel(-1)\n",
    "s.name = 'UnitIDs'\n",
    "del report['UnitIDs']\n",
    "report_mod = report.join(s)\n",
    "report_mod = report_mod.reset_index(drop=True)\n",
    "report_mod.shape #Shape after the filtering"
   ]
  },
  {
   "cell_type": "code",
   "execution_count": 198,
   "metadata": {},
   "outputs": [
    {
     "data": {
      "text/plain": [
       "1934"
      ]
     },
     "execution_count": 198,
     "metadata": {},
     "output_type": "execute_result"
    }
   ],
   "source": [
    "#Count the number of cells that are null within the key feature\n",
    "report_mod['UnitIDs'].isnull().sum()"
   ]
  },
  {
   "cell_type": "code",
   "execution_count": 199,
   "metadata": {},
   "outputs": [
    {
     "data": {
      "text/plain": [
       "0"
      ]
     },
     "execution_count": 199,
     "metadata": {},
     "output_type": "execute_result"
    }
   ],
   "source": [
    "#Delete the null rows for the key feature and test it. The result of this sum operation must be 0.\n",
    "report_mod.dropna(axis=0, how='any', subset = ['UnitIDs'], inplace = True)\n",
    "report_mod['UnitIDs'].isnull().sum()"
   ]
  },
  {
   "cell_type": "code",
   "execution_count": 200,
   "metadata": {},
   "outputs": [
    {
     "data": {
      "text/plain": [
       "(63760, 36)"
      ]
     },
     "execution_count": 200,
     "metadata": {},
     "output_type": "execute_result"
    }
   ],
   "source": [
    "report_mod.shape"
   ]
  },
  {
   "cell_type": "markdown",
   "metadata": {},
   "source": [
    "## 3. Filter the possible values for the relevant attributes"
   ]
  },
  {
   "cell_type": "markdown",
   "metadata": {},
   "source": [
    "#### Budget code"
   ]
  },
  {
   "cell_type": "code",
   "execution_count": 201,
   "metadata": {},
   "outputs": [
    {
     "data": {
      "text/plain": [
       "BudgetCode\n",
       "CWY    30330\n",
       "MEM     5463\n",
       "ARP     4978\n",
       "ITP     4818\n",
       "LGH     4234\n",
       "FWY     2639\n",
       "NCM     2097\n",
       "SAR     2022\n",
       "DRN     1619\n",
       "LMZ     1318\n",
       "WRC      825\n",
       "CSC      728\n",
       "DIS      701\n",
       "BRG      666\n",
       "TIS      478\n",
       "NFM      264\n",
       "SAM      146\n",
       "LRZ      107\n",
       "COM       93\n",
       "FSC       83\n",
       "MAJ       60\n",
       "DSC       40\n",
       "EXW       21\n",
       "GBS       16\n",
       "GSC       12\n",
       "CZZ        2\n",
       "dtype: int64"
      ]
     },
     "execution_count": 201,
     "metadata": {},
     "output_type": "execute_result"
    }
   ],
   "source": [
    "#Check the possible values for the relevant features and their count and sort them:\n",
    "report_mod.groupby(['BudgetCode'],as_index = False).size().sort_values(ascending = False)"
   ]
  },
  {
   "cell_type": "code",
   "execution_count": 202,
   "metadata": {},
   "outputs": [],
   "source": [
    "#Drop the instances that are out of scope, categorized by feature\n",
    "filter_list = ['BRG','FWY','COM','CZZ','EXW','FSC','GBS','GSC','ITP','LGH','LMZ','LRZ','MAJ','NFM','SAM','TIS']\n",
    "report_mod = report_mod[~report_mod.BudgetCode.isin(filter_list)]\n",
    "report_mod = report_mod.reset_index(drop=True)"
   ]
  },
  {
   "cell_type": "code",
   "execution_count": 203,
   "metadata": {},
   "outputs": [
    {
     "data": {
      "text/plain": [
       "BudgetCode\n",
       "CWY    30330\n",
       "MEM     5463\n",
       "ARP     4978\n",
       "NCM     2097\n",
       "SAR     2022\n",
       "DRN     1619\n",
       "WRC      825\n",
       "CSC      728\n",
       "DIS      701\n",
       "DSC       40\n",
       "dtype: int64"
      ]
     },
     "execution_count": 203,
     "metadata": {},
     "output_type": "execute_result"
    }
   ],
   "source": [
    "#Check the remaining categories\n",
    "report_mod.groupby(['BudgetCode'],as_index = False).size().sort_values(ascending = False)"
   ]
  },
  {
   "cell_type": "code",
   "execution_count": 204,
   "metadata": {},
   "outputs": [
    {
     "data": {
      "text/plain": [
       "(44151, 35)"
      ]
     },
     "execution_count": 204,
     "metadata": {},
     "output_type": "execute_result"
    }
   ],
   "source": [
    "report.shape"
   ]
  },
  {
   "cell_type": "markdown",
   "metadata": {},
   "source": [
    "#### Stage Date"
   ]
  },
  {
   "cell_type": "code",
   "execution_count": 205,
   "metadata": {},
   "outputs": [],
   "source": [
    "#Discard works that took place before 2007\n",
    "#report_mod['***Year***'].fillna(value = '0', inplace = True)\n",
    "#report_mod['***Year***'] = report_mod['***Year***'].astype(str).astype(int)\n",
    "#report_mod.drop(report_mod[(report_mod['***Year***']<2007)].index, inplace = True)"
   ]
  },
  {
   "cell_type": "code",
   "execution_count": 206,
   "metadata": {},
   "outputs": [
    {
     "data": {
      "text/plain": [
       "21773"
      ]
     },
     "execution_count": 206,
     "metadata": {},
     "output_type": "execute_result"
    }
   ],
   "source": [
    "#Evaluate how many rows are included that don't have a date at all\n",
    "missing_date = ['Stage1aStart', 'Stage1aFinish',\n",
    "       'Stage1bFinish', 'Stage1cFinish', 'Stage2aFinish', 'Stage2bFinish',\n",
    "       'Stage2cFinish', 'Stage3aFinish', 'Stage3bFinish', 'Stage3cFinish',\n",
    "       'Stage4aFinish','Stage4bStart', 'Stage4bFinish', 'Stage4cFinish',\n",
    "       'Stage5aFinish', 'Stage5bFinish', 'Stage6Finish']\n",
    "#dates = report_mod.filter(missing_date) #Just to filter a number of columns\n",
    "report_mod[missing_date].isnull().apply(lambda x: all(x), axis=1).sum()"
   ]
  },
  {
   "cell_type": "code",
   "execution_count": 207,
   "metadata": {},
   "outputs": [
    {
     "data": {
      "text/plain": [
       "(27030, 36)"
      ]
     },
     "execution_count": 207,
     "metadata": {},
     "output_type": "execute_result"
    }
   ],
   "source": [
    "#Drop instances that have no date associated to the project\n",
    "report_mod.dropna(subset=missing_date, how='all', inplace=True)\n",
    "report_mod.shape"
   ]
  },
  {
   "cell_type": "code",
   "execution_count": 208,
   "metadata": {},
   "outputs": [
    {
     "data": {
      "text/plain": [
       "ProjectStage\n",
       "Z     13349\n",
       "6      6443\n",
       "4a     1917\n",
       "9      1882\n",
       "5      1454\n",
       "4c      812\n",
       "X       606\n",
       "2a      193\n",
       "H       148\n",
       "2c       98\n",
       "2b       48\n",
       "4b       24\n",
       "1a       23\n",
       "1b       20\n",
       "3a        2\n",
       "dtype: int64"
      ]
     },
     "execution_count": 208,
     "metadata": {},
     "output_type": "execute_result"
    }
   ],
   "source": [
    "#Check the current stage for the remaining instances:\n",
    "report_mod.groupby(report_mod['ProjectStage'], as_index = False).size().sort_values(ascending = False)"
   ]
  },
  {
   "cell_type": "code",
   "execution_count": 209,
   "metadata": {},
   "outputs": [
    {
     "data": {
      "text/plain": [
       "(24125, 36)"
      ]
     },
     "execution_count": 209,
     "metadata": {},
     "output_type": "execute_result"
    }
   ],
   "source": [
    "#Drop instances that are in stages up to 4a and that were cancelled (X)\n",
    "filter_stage = ['4a','2a','2c','X','2b','1a','1b']\n",
    "report_mod = report_mod[~report_mod.ProjectStage.isin(filter_stage)]\n",
    "report_mod = report_mod.reset_index(drop=True)\n",
    "report_mod.shape"
   ]
  },
  {
   "cell_type": "markdown",
   "metadata": {},
   "source": [
    "## Fill the blanks for rest of the categories with \"Undefined\""
   ]
  },
  {
   "cell_type": "code",
   "execution_count": 210,
   "metadata": {},
   "outputs": [],
   "source": [
    "report_mod['LatestWorksCost'].fillna(value = '0', inplace = True)\n",
    "report_mod.fillna(value = 'Undefined', inplace = True)"
   ]
  },
  {
   "cell_type": "code",
   "execution_count": 211,
   "metadata": {},
   "outputs": [],
   "source": [
    "#Use this to filter a specific value within a column\n",
    "#report_mod.loc[report_mod['BudgetCode'] == 'ITP'].head(5)"
   ]
  },
  {
   "cell_type": "markdown",
   "metadata": {},
   "source": [
    "### Save to a new CSV file "
   ]
  },
  {
   "cell_type": "code",
   "execution_count": 212,
   "metadata": {},
   "outputs": [],
   "source": [
    "report_mod.to_csv(r'C:\\Users\\J FernandezGomez\\Jupyter Notebooks\\Cleaning_Data_Notebooks\\1_PMNET_IWReport\\PMNET_processed_v2.csv')"
   ]
  },
  {
   "cell_type": "markdown",
   "metadata": {},
   "source": [
    "Questions:\n",
    "\n",
    "\n",
    "\n",
    "\n",
    "*Finish with the rest of the attributes\n"
   ]
  },
  {
   "cell_type": "markdown",
   "metadata": {},
   "source": [
    "Project Stage: X = Cancelled (Even if they have a date, it was a projection, H = On hold, Z = Closed or Complete, 9 = \n",
    "\n",
    "What do we do with NaN dates? Check if it corresponds to a similar IWP number (just a parent or pre-patching) and combine the dates. If none are to be found, we discard them.\n",
    "\n",
    "Check the codes on the DB_Mapping and update the script\n",
    "\n",
    "IWPCode: Wait for the table.\n",
    "\n",
    "    "
   ]
  }
 ],
 "metadata": {
  "kernelspec": {
   "display_name": "Python 3",
   "language": "python",
   "name": "python3"
  },
  "language_info": {
   "codemirror_mode": {
    "name": "ipython",
    "version": 3
   },
   "file_extension": ".py",
   "mimetype": "text/x-python",
   "name": "python",
   "nbconvert_exporter": "python",
   "pygments_lexer": "ipython3",
   "version": "3.7.4"
  }
 },
 "nbformat": 4,
 "nbformat_minor": 2
}
