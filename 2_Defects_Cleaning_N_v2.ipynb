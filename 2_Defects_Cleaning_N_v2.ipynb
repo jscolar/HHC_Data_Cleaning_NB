{
 "cells": [
  {
   "cell_type": "code",
   "execution_count": 3,
   "metadata": {},
   "outputs": [],
   "source": [
    "import pandas as pd\n",
    "import csv\n",
    "import os"
   ]
  },
  {
   "cell_type": "code",
   "execution_count": 2,
   "metadata": {},
   "outputs": [],
   "source": [
    "#Activate the first option if whole column width is necessary and the second to make all columns visible\n",
    "#pd.set_option('display.max_colwidth', -1)\n",
    "#pd.set_option('display.max_columns', 999)"
   ]
  },
  {
   "cell_type": "markdown",
   "metadata": {},
   "source": [
    "## I. Import the dataset and filter the relevant columns"
   ]
  },
  {
   "cell_type": "code",
   "execution_count": 4,
   "metadata": {},
   "outputs": [
    {
     "data": {
      "text/plain": [
       "Index(['Unnamed: 0', 'enquiry_number', 'job_number', 'enquiry_time',\n",
       "       'service_code', 'subject_code', 'subject_name', 'priority_code',\n",
       "       'enq_status_code', 'log_effective_date', 'enquiry_desc', 'officer_code',\n",
       "       'enq_status_name', 'claim_date', 'claim_tot', 'claim_code', 'area_name',\n",
       "       'site_address', 'quad', 'feature_location', 'asset_id'],\n",
       "      dtype='object')"
      ]
     },
     "execution_count": 4,
     "metadata": {},
     "output_type": "execute_result"
    }
   ],
   "source": [
    "#Get the report and store it into a dataframe. Check what columns are included in the file\n",
    "report = pd.read_csv('defects_consolidate_final.csv', dtype = str)\n",
    "report.columns"
   ]
  },
  {
   "cell_type": "code",
   "execution_count": 5,
   "metadata": {},
   "outputs": [
    {
     "data": {
      "text/html": [
       "<div>\n",
       "<style scoped>\n",
       "    .dataframe tbody tr th:only-of-type {\n",
       "        vertical-align: middle;\n",
       "    }\n",
       "\n",
       "    .dataframe tbody tr th {\n",
       "        vertical-align: top;\n",
       "    }\n",
       "\n",
       "    .dataframe thead th {\n",
       "        text-align: right;\n",
       "    }\n",
       "</style>\n",
       "<table border=\"1\" class=\"dataframe\">\n",
       "  <thead>\n",
       "    <tr style=\"text-align: right;\">\n",
       "      <th></th>\n",
       "      <th>Unnamed: 0</th>\n",
       "      <th>enquiry_number</th>\n",
       "      <th>job_number</th>\n",
       "      <th>enquiry_time</th>\n",
       "      <th>service_code</th>\n",
       "      <th>subject_code</th>\n",
       "      <th>subject_name</th>\n",
       "      <th>priority_code</th>\n",
       "      <th>enq_status_code</th>\n",
       "      <th>log_effective_date</th>\n",
       "      <th>...</th>\n",
       "      <th>officer_code</th>\n",
       "      <th>enq_status_name</th>\n",
       "      <th>claim_date</th>\n",
       "      <th>claim_tot</th>\n",
       "      <th>claim_code</th>\n",
       "      <th>area_name</th>\n",
       "      <th>site_address</th>\n",
       "      <th>quad</th>\n",
       "      <th>feature_location</th>\n",
       "      <th>asset_id</th>\n",
       "    </tr>\n",
       "  </thead>\n",
       "  <tbody>\n",
       "    <tr>\n",
       "      <td>0</td>\n",
       "      <td>1</td>\n",
       "      <td>1558145</td>\n",
       "      <td>946775</td>\n",
       "      <td>05/05/2010 09:16</td>\n",
       "      <td>CW</td>\n",
       "      <td>PH1</td>\n",
       "      <td>Urgent Pothole 24 Hr Repair</td>\n",
       "      <td>H24</td>\n",
       "      <td>430</td>\n",
       "      <td>07/05/2010 11:45</td>\n",
       "      <td>...</td>\n",
       "      <td>LW2</td>\n",
       "      <td>0430-Ref'd to 3rd Party by HCC</td>\n",
       "      <td>17/05/2010 09:30</td>\n",
       "      <td>41.67</td>\n",
       "      <td>F1/946775</td>\n",
       "      <td>Tring Town</td>\n",
       "      <td>A41 Tring Bypass</td>\n",
       "      <td>SW</td>\n",
       "      <td>County boundary to B4635 overbridge</td>\n",
       "      <td>A41/011</td>\n",
       "    </tr>\n",
       "    <tr>\n",
       "      <td>1</td>\n",
       "      <td>2</td>\n",
       "      <td>1533019</td>\n",
       "      <td>922316</td>\n",
       "      <td>09/02/2010 15:23</td>\n",
       "      <td>WM</td>\n",
       "      <td>RICE</td>\n",
       "      <td>Ice And Snow On Road</td>\n",
       "      <td>H2</td>\n",
       "      <td>400</td>\n",
       "      <td>20/12/2009 12:55</td>\n",
       "      <td>...</td>\n",
       "      <td>ECR2</td>\n",
       "      <td>0400-Repaired/Replaced</td>\n",
       "      <td>17/02/2010 09:13</td>\n",
       "      <td>192.29</td>\n",
       "      <td>F1/922316</td>\n",
       "      <td>Kings Langley</td>\n",
       "      <td>Abbots Rise</td>\n",
       "      <td>SW</td>\n",
       "      <td>Hempstead Road to house 59</td>\n",
       "      <td>2U415/10</td>\n",
       "    </tr>\n",
       "    <tr>\n",
       "      <td>2</td>\n",
       "      <td>3</td>\n",
       "      <td>1532872</td>\n",
       "      <td>922185</td>\n",
       "      <td>09/02/2010 11:54</td>\n",
       "      <td>WM</td>\n",
       "      <td>RICE</td>\n",
       "      <td>Ice And Snow On Road</td>\n",
       "      <td>H2</td>\n",
       "      <td>400</td>\n",
       "      <td>20/12/2009 10:10</td>\n",
       "      <td>...</td>\n",
       "      <td>ECR2</td>\n",
       "      <td>0400-Repaired/Replaced</td>\n",
       "      <td>17/02/2010 08:59</td>\n",
       "      <td>195.24</td>\n",
       "      <td>F1/922185</td>\n",
       "      <td>Kings Langley</td>\n",
       "      <td>Abbots Rise</td>\n",
       "      <td>SW</td>\n",
       "      <td>Hempstead Road to house 59</td>\n",
       "      <td>2U415/10</td>\n",
       "    </tr>\n",
       "    <tr>\n",
       "      <td>3</td>\n",
       "      <td>4</td>\n",
       "      <td>1350964</td>\n",
       "      <td>646550</td>\n",
       "      <td>05/02/2008 16:41</td>\n",
       "      <td>CW</td>\n",
       "      <td>CPTH</td>\n",
       "      <td>Pothole In Road</td>\n",
       "      <td>NaN</td>\n",
       "      <td>400</td>\n",
       "      <td>06/02/2008 12:00</td>\n",
       "      <td>...</td>\n",
       "      <td>CSC3</td>\n",
       "      <td>0400-Repaired/Replaced</td>\n",
       "      <td>NaN</td>\n",
       "      <td>NaN</td>\n",
       "      <td>NaN</td>\n",
       "      <td>Kings Langley</td>\n",
       "      <td>Abbots Rise</td>\n",
       "      <td>EH</td>\n",
       "      <td>Hempstead Road to house 59</td>\n",
       "      <td>2U415/10</td>\n",
       "    </tr>\n",
       "    <tr>\n",
       "      <td>4</td>\n",
       "      <td>5</td>\n",
       "      <td>1377901</td>\n",
       "      <td>701625</td>\n",
       "      <td>10/07/2008 12:00</td>\n",
       "      <td>CW</td>\n",
       "      <td>CPTH</td>\n",
       "      <td>Pothole In Road</td>\n",
       "      <td>NaN</td>\n",
       "      <td>410</td>\n",
       "      <td>10/07/2008 14:40</td>\n",
       "      <td>...</td>\n",
       "      <td>WEB</td>\n",
       "      <td>0410-Fault Made Safe</td>\n",
       "      <td>NaN</td>\n",
       "      <td>NaN</td>\n",
       "      <td>NaN</td>\n",
       "      <td>Kings Langley</td>\n",
       "      <td>Abbots Rise</td>\n",
       "      <td>WEB</td>\n",
       "      <td>Hempstead Road to house 59</td>\n",
       "      <td>2U415/10</td>\n",
       "    </tr>\n",
       "  </tbody>\n",
       "</table>\n",
       "<p>5 rows × 21 columns</p>\n",
       "</div>"
      ],
      "text/plain": [
       "  Unnamed: 0 enquiry_number job_number      enquiry_time service_code  \\\n",
       "0          1        1558145     946775  05/05/2010 09:16           CW   \n",
       "1          2        1533019     922316  09/02/2010 15:23           WM   \n",
       "2          3        1532872     922185  09/02/2010 11:54           WM   \n",
       "3          4        1350964     646550  05/02/2008 16:41           CW   \n",
       "4          5        1377901     701625  10/07/2008 12:00           CW   \n",
       "\n",
       "  subject_code                 subject_name priority_code enq_status_code  \\\n",
       "0          PH1  Urgent Pothole 24 Hr Repair           H24             430   \n",
       "1         RICE         Ice And Snow On Road            H2             400   \n",
       "2         RICE         Ice And Snow On Road            H2             400   \n",
       "3         CPTH              Pothole In Road           NaN             400   \n",
       "4         CPTH              Pothole In Road           NaN             410   \n",
       "\n",
       "  log_effective_date  ... officer_code                 enq_status_name  \\\n",
       "0   07/05/2010 11:45  ...          LW2  0430-Ref'd to 3rd Party by HCC   \n",
       "1   20/12/2009 12:55  ...         ECR2          0400-Repaired/Replaced   \n",
       "2   20/12/2009 10:10  ...         ECR2          0400-Repaired/Replaced   \n",
       "3   06/02/2008 12:00  ...         CSC3          0400-Repaired/Replaced   \n",
       "4   10/07/2008 14:40  ...          WEB            0410-Fault Made Safe   \n",
       "\n",
       "         claim_date claim_tot claim_code      area_name      site_address  \\\n",
       "0  17/05/2010 09:30     41.67  F1/946775     Tring Town  A41 Tring Bypass   \n",
       "1  17/02/2010 09:13    192.29  F1/922316  Kings Langley       Abbots Rise   \n",
       "2  17/02/2010 08:59    195.24  F1/922185  Kings Langley       Abbots Rise   \n",
       "3               NaN       NaN        NaN  Kings Langley       Abbots Rise   \n",
       "4               NaN       NaN        NaN  Kings Langley       Abbots Rise   \n",
       "\n",
       "  quad                     feature_location  asset_id  \n",
       "0   SW  County boundary to B4635 overbridge   A41/011  \n",
       "1   SW           Hempstead Road to house 59  2U415/10  \n",
       "2   SW           Hempstead Road to house 59  2U415/10  \n",
       "3   EH           Hempstead Road to house 59  2U415/10  \n",
       "4  WEB           Hempstead Road to house 59  2U415/10  \n",
       "\n",
       "[5 rows x 21 columns]"
      ]
     },
     "execution_count": 5,
     "metadata": {},
     "output_type": "execute_result"
    }
   ],
   "source": [
    "report.head(5)"
   ]
  },
  {
   "cell_type": "code",
   "execution_count": 6,
   "metadata": {},
   "outputs": [],
   "source": [
    "#Drop the irrelevant attributes, validated by an SME, and remove whitespaces\n",
    "report.drop(columns = ['Unnamed: 0', 'job_number', 'subject_name', \n",
    "       'enq_status_name', 'area_name'], inplace = True ) "
   ]
  },
  {
   "cell_type": "code",
   "execution_count": 7,
   "metadata": {},
   "outputs": [],
   "source": [
    "#Remove all whitespaces from column names\n",
    "report.columns = [x.replace(\" \", \"\") for x in report.columns]"
   ]
  },
  {
   "cell_type": "code",
   "execution_count": 8,
   "metadata": {},
   "outputs": [
    {
     "data": {
      "text/plain": [
       "Index(['enquiry_number', 'enquiry_time', 'service_code', 'subject_code',\n",
       "       'priority_code', 'enq_status_code', 'log_effective_date',\n",
       "       'enquiry_desc', 'officer_code', 'claim_date', 'claim_tot', 'claim_code',\n",
       "       'site_address', 'quad', 'feature_location', 'asset_id'],\n",
       "      dtype='object')"
      ]
     },
     "execution_count": 8,
     "metadata": {},
     "output_type": "execute_result"
    }
   ],
   "source": [
    "#Validate with the SME that all the remaining columns are relevant. Done\n",
    "report.columns"
   ]
  },
  {
   "cell_type": "markdown",
   "metadata": {},
   "source": [
    "## II. Identify the key feature and format it to avoid empty cells and multiple values per row"
   ]
  },
  {
   "cell_type": "code",
   "execution_count": 9,
   "metadata": {},
   "outputs": [],
   "source": [
    "#Drop all rows that are empty and drop all duplicate rows\n",
    "report.dropna(axis=0, how='all', inplace=True)\n",
    "report.drop_duplicates(inplace=True)"
   ]
  },
  {
   "cell_type": "code",
   "execution_count": 10,
   "metadata": {},
   "outputs": [
    {
     "data": {
      "text/plain": [
       "(1114171, 16)"
      ]
     },
     "execution_count": 10,
     "metadata": {},
     "output_type": "execute_result"
    }
   ],
   "source": [
    "#Don't use since it might crash the notebook\n",
    "'''#Identify the key feature and split the cell if there are several values within one row\n",
    "s = report['asset_id'].str.split(';').apply(pd.Series, 1).stack()\n",
    "s.index = s.index.droplevel(-1)\n",
    "s.name = 'asset_id'\n",
    "del report['asset_id']\n",
    "report_mod = report.join(s)\n",
    "report_mod = report_mod.reset_index(drop=True)\n",
    "report_mod.shape #Shape after the filtering\n",
    "'''\n",
    "report_mod = report\n",
    "report_mod.shape"
   ]
  },
  {
   "cell_type": "code",
   "execution_count": 11,
   "metadata": {},
   "outputs": [
    {
     "data": {
      "text/plain": [
       "510642"
      ]
     },
     "execution_count": 11,
     "metadata": {},
     "output_type": "execute_result"
    }
   ],
   "source": [
    "#Count the number of cells that are null within the key feature ****CHECK IF THEY CAN BE FILLED WITH SITE NAME***\n",
    "report_mod['asset_id'].isnull().sum()"
   ]
  },
  {
   "cell_type": "code",
   "execution_count": 12,
   "metadata": {},
   "outputs": [
    {
     "data": {
      "text/plain": [
       "0"
      ]
     },
     "execution_count": 12,
     "metadata": {},
     "output_type": "execute_result"
    }
   ],
   "source": [
    "#Delete the null rows for the key feature and test it. The result of this sum operation must be 0.\n",
    "report_mod.dropna(axis=0, how='any', subset = ['asset_id'], inplace = True)\n",
    "report_mod['asset_id'].isnull().sum()"
   ]
  },
  {
   "cell_type": "code",
   "execution_count": 13,
   "metadata": {},
   "outputs": [
    {
     "data": {
      "text/plain": [
       "(603529, 16)"
      ]
     },
     "execution_count": 13,
     "metadata": {},
     "output_type": "execute_result"
    }
   ],
   "source": [
    "report_mod.shape"
   ]
  },
  {
   "cell_type": "markdown",
   "metadata": {},
   "source": [
    "## 3. Filter the possible values for the relevant attributes"
   ]
  },
  {
   "cell_type": "markdown",
   "metadata": {},
   "source": [
    "#### Service code"
   ]
  },
  {
   "cell_type": "code",
   "execution_count": 14,
   "metadata": {},
   "outputs": [
    {
     "data": {
      "text/plain": [
       "service_code\n",
       "SL1             148029\n",
       "CW              137300\n",
       "SL              122552\n",
       "CW1              52712\n",
       "FV               32282\n",
       "TV1              18015\n",
       "VG               16049\n",
       "FL               11568\n",
       "FV1              11327\n",
       "OB1              10166\n",
       "FL1               8844\n",
       "OB                6280\n",
       "HD                4723\n",
       "VXO               4300\n",
       "SG                3941\n",
       "AN                2840\n",
       "FP                2614\n",
       "FN1               2540\n",
       "WM                1636\n",
       "AN1               1625\n",
       "SG1               1018\n",
       "SC1                568\n",
       "TS                 550\n",
       "BU1                439\n",
       "GF1                429\n",
       "GF                 301\n",
       "NR                 265\n",
       "BG1                261\n",
       "WM1                141\n",
       "MI                  83\n",
       "UT1                 52\n",
       "PROW                31\n",
       "BG                  14\n",
       "SC                  11\n",
       "RW1                  8\n",
       "TR                   7\n",
       "BS                   7\n",
       "service_code         1\n",
       "dtype: int64"
      ]
     },
     "execution_count": 14,
     "metadata": {},
     "output_type": "execute_result"
    }
   ],
   "source": [
    "#Check the possible values for the relevant features and their count and sort them:\n",
    "report_mod.groupby(['service_code'],as_index = False).size().sort_values(ascending = False)"
   ]
  },
  {
   "cell_type": "code",
   "execution_count": 15,
   "metadata": {},
   "outputs": [],
   "source": [
    "#Drop the instances that are out of scope, categorized by feature\n",
    "filter_list = ['SL1','SL','FV','VG','TV1','FV1','OB1','OB','VXO',\n",
    "               'SG','AN','FP','FN1','AN1','SG1','SC1','TS','BU1',\n",
    "              'GF1','GF','MI','UT1','PROW','SC','RW1','BS','TR', 'service_code']\n",
    "report_mod = report_mod[~report_mod.service_code.isin(filter_list)]\n",
    "report_mod = report_mod.reset_index(drop=True)"
   ]
  },
  {
   "cell_type": "code",
   "execution_count": 16,
   "metadata": {},
   "outputs": [
    {
     "data": {
      "text/plain": [
       "service_code\n",
       "CW     137300\n",
       "CW1     52712\n",
       "FL      11568\n",
       "FL1      8844\n",
       "HD       4723\n",
       "WM       1636\n",
       "NR        265\n",
       "BG1       261\n",
       "WM1       141\n",
       "BG         14\n",
       "dtype: int64"
      ]
     },
     "execution_count": 16,
     "metadata": {},
     "output_type": "execute_result"
    }
   ],
   "source": [
    "#Check the remaining categories\n",
    "report_mod.groupby(['service_code'],as_index = False).size().sort_values(ascending = False)"
   ]
  },
  {
   "cell_type": "code",
   "execution_count": 17,
   "metadata": {},
   "outputs": [
    {
     "data": {
      "text/plain": [
       "(217464, 16)"
      ]
     },
     "execution_count": 17,
     "metadata": {},
     "output_type": "execute_result"
    }
   ],
   "source": [
    "report_mod.shape"
   ]
  },
  {
   "cell_type": "markdown",
   "metadata": {},
   "source": [
    "#### Subject Code"
   ]
  },
  {
   "cell_type": "code",
   "execution_count": 18,
   "metadata": {},
   "outputs": [
    {
     "name": "stdout",
     "output_type": "stream",
     "text": [
      "The instances covered by the top 50 codes are: 214151\n",
      "Which represents: 98.0% of the total amount\n"
     ]
    }
   ],
   "source": [
    "#Check the main subject codes and evaluate their relevance. The 50 main codes represent more than 98%\n",
    "ans = report_mod.groupby(['subject_code'],as_index = False).size().sort_values(ascending = False).head(50).sum()\n",
    "print('The instances covered by the top 50 codes are: ' + str(ans))\n",
    "print('Which represents: '+str(round((ans*100)/report_mod.shape[0]),) + '% of the total amount')"
   ]
  },
  {
   "cell_type": "code",
   "execution_count": 20,
   "metadata": {},
   "outputs": [
    {
     "data": {
      "text/plain": [
       "subject_code\n",
       "PH7     39249\n",
       "PH1     38685\n",
       "CPTH    23333\n",
       "CPH3    16938\n",
       "CPH4    14271\n",
       "CPH2    10552\n",
       "SPL      9573\n",
       "PH14     6749\n",
       "CFL      6023\n",
       "SCVR     5987\n",
       "GUL      3877\n",
       "POW      3619\n",
       "RWSG     3301\n",
       "DCF3     2905\n",
       "DCF2     2609\n",
       "MSNG     2355\n",
       "SUNK     2284\n",
       "CCD1     1907\n",
       "CRW2     1806\n",
       "RICE     1525\n",
       "CMUD     1409\n",
       "CKD4     1183\n",
       "DCF1     1101\n",
       "COLL      922\n",
       "CBAR      865\n",
       "SPLE      836\n",
       "RMK       817\n",
       "FFL       692\n",
       "CCS2      635\n",
       "CFS1      569\n",
       "CLLW      523\n",
       "CCD3      522\n",
       "DPD1      495\n",
       "NZU       472\n",
       "PDAM      456\n",
       "DPD2      450\n",
       "CCS3      447\n",
       "NRSW      440\n",
       "CRW1      436\n",
       "HZB       399\n",
       "CCD4      385\n",
       "CCS4      345\n",
       "SFL       330\n",
       "DFL3      318\n",
       "CSH1      311\n",
       "DFL4      273\n",
       "CKD3      260\n",
       "HBW1      256\n",
       "CKD2      229\n",
       "CMD3      227\n",
       "dtype: int64"
      ]
     },
     "execution_count": 20,
     "metadata": {},
     "output_type": "execute_result"
    }
   ],
   "source": [
    "report_mod.groupby(['subject_code'],as_index = False).size().sort_values(ascending = False).head(50)"
   ]
  },
  {
   "cell_type": "code",
   "execution_count": 107,
   "metadata": {},
   "outputs": [
    {
     "data": {
      "text/plain": [
       "(198455, 15)"
      ]
     },
     "execution_count": 107,
     "metadata": {},
     "output_type": "execute_result"
    }
   ],
   "source": [
    "#Keep only the instances that are within the scope\n",
    "#CHECK HBW********\n",
    "filter_subc = ['PH7','PH1','CPTH','CPH3','CPH4','CPH2','SPL','PH14','CFL','GUL',\n",
    "               'DCF3','DCF2','CCD1','RICE','CMUD','DCF1','CBAR','SPLE',\n",
    "              'CFS1','CCD3','DPD1','NZU','PDAM','DPD2','NRSW','CCD4',\n",
    "               'SFL','CSH1','CKD3','CKD2','CMD3']\n",
    "\n",
    "report_mod = report_mod[report_mod.subject_code.isin(filter_subc)]\n",
    "report_mod = report_mod.reset_index(drop=True)\n",
    "report_mod.shape"
   ]
  },
  {
   "cell_type": "markdown",
   "metadata": {},
   "source": [
    "#### Priority Code"
   ]
  },
  {
   "cell_type": "code",
   "execution_count": 108,
   "metadata": {},
   "outputs": [
    {
     "data": {
      "text/plain": [
       "priority_code\n",
       "H24    55203\n",
       "D7     39249\n",
       "H2     29133\n",
       "D5     22481\n",
       "D20    15001\n",
       "D14     7022\n",
       "dtype: int64"
      ]
     },
     "execution_count": 108,
     "metadata": {},
     "output_type": "execute_result"
    }
   ],
   "source": [
    "#Validate that all remaining priority codes are relevant\n",
    "report_mod.groupby(['priority_code'], as_index = False).size().sort_values(ascending = False)"
   ]
  },
  {
   "cell_type": "markdown",
   "metadata": {},
   "source": [
    "#### Enquiry Status Code"
   ]
  },
  {
   "cell_type": "code",
   "execution_count": 111,
   "metadata": {},
   "outputs": [
    {
     "data": {
      "text/plain": [
       "enq_status_code\n",
       "400     131947\n",
       "410      34341\n",
       "420       9491\n",
       "440       8336\n",
       "480       4746\n",
       "890       2927\n",
       "430       2752\n",
       "445       2628\n",
       "450        632\n",
       "435        325\n",
       "490        121\n",
       "460         58\n",
       "240         51\n",
       "470         43\n",
       "210         23\n",
       "245         13\n",
       "250          6\n",
       "1000         5\n",
       "481          3\n",
       "421          2\n",
       "330          2\n",
       "431          1\n",
       "260          1\n",
       "432          1\n",
       "dtype: int64"
      ]
     },
     "execution_count": 111,
     "metadata": {},
     "output_type": "execute_result"
    }
   ],
   "source": [
    "#Check the relevant enquiry status codes within the dataset\n",
    "report_mod.groupby(['enq_status_code'], as_index = False).size().sort_values(ascending = False)"
   ]
  },
  {
   "cell_type": "code",
   "execution_count": 110,
   "metadata": {},
   "outputs": [],
   "source": [
    "#Standardise the enquiry status codes by removing aditional zeros.\n",
    "report_mod['enq_status_code'] = report_mod['enq_status_code'].str.lstrip(\"0\")"
   ]
  },
  {
   "cell_type": "code",
   "execution_count": 112,
   "metadata": {},
   "outputs": [
    {
     "data": {
      "text/plain": [
       "(190119, 15)"
      ]
     },
     "execution_count": 112,
     "metadata": {},
     "output_type": "execute_result"
    }
   ],
   "source": [
    "#Drop the enquiry status codes that are not within scope\n",
    "filter_enq = ['440','100'] #Check 445, 435\n",
    "report_mod = report_mod[~report_mod.enq_status_code.isin(filter_enq)]\n",
    "report_mod = report_mod.reset_index(drop=True)\n",
    "report_mod.shape"
   ]
  },
  {
   "cell_type": "markdown",
   "metadata": {},
   "source": [
    "#### Log Effective Date  (**Optional**)"
   ]
  },
  {
   "cell_type": "raw",
   "metadata": {},
   "source": [
    "#Discard works that took place before 2007\n",
    "#report_mod['log_effective_date'].fillna(value = '0', inplace = True)\n",
    "#report_mod['log_effective_date'] = report_mod['log_effective_date'].astype(str).astype(int)\n",
    "#report_mod.drop(report_mod[(report_mod['log_effective_date']<2007)].index, inplace = True)"
   ]
  },
  {
   "cell_type": "code",
   "execution_count": 206,
   "metadata": {},
   "outputs": [
    {
     "data": {
      "text/plain": [
       "21773"
      ]
     },
     "execution_count": 206,
     "metadata": {},
     "output_type": "execute_result"
    }
   ],
   "source": [
    "#Evaluate how many rows are included that don't have a date at all\n",
    "\n",
    "report_mod['log_effective_date'].isnull().apply(lambda x: all(x), axis=1).sum()"
   ]
  },
  {
   "cell_type": "code",
   "execution_count": 207,
   "metadata": {},
   "outputs": [
    {
     "data": {
      "text/plain": [
       "(27030, 36)"
      ]
     },
     "execution_count": 207,
     "metadata": {},
     "output_type": "execute_result"
    }
   ],
   "source": [
    "#Drop instances that have no date associated to the project\n",
    "report_mod.dropna(subset=missing_date, how='all', inplace=True)\n",
    "report_mod.shape"
   ]
  },
  {
   "cell_type": "code",
   "execution_count": 208,
   "metadata": {},
   "outputs": [
    {
     "data": {
      "text/plain": [
       "ProjectStage\n",
       "Z     13349\n",
       "6      6443\n",
       "4a     1917\n",
       "9      1882\n",
       "5      1454\n",
       "4c      812\n",
       "X       606\n",
       "2a      193\n",
       "H       148\n",
       "2c       98\n",
       "2b       48\n",
       "4b       24\n",
       "1a       23\n",
       "1b       20\n",
       "3a        2\n",
       "dtype: int64"
      ]
     },
     "execution_count": 208,
     "metadata": {},
     "output_type": "execute_result"
    }
   ],
   "source": [
    "#Check the current stage for the remaining instances:\n",
    "report_mod.groupby(report_mod['ProjectStage'], as_index = False).size().sort_values(ascending = False)"
   ]
  },
  {
   "cell_type": "code",
   "execution_count": 209,
   "metadata": {},
   "outputs": [
    {
     "data": {
      "text/plain": [
       "(24125, 36)"
      ]
     },
     "execution_count": 209,
     "metadata": {},
     "output_type": "execute_result"
    }
   ],
   "source": [
    "#Drop instances that are in stages up to 4a and that were cancelled (X)\n",
    "filter_stage = ['4a','2a','2c','X','2b','1a','1b']\n",
    "report_mod = report_mod[~report_mod.ProjectStage.isin(filter_stage)]\n",
    "report_mod = report_mod.reset_index(drop=True)\n",
    "report_mod.shape"
   ]
  },
  {
   "cell_type": "markdown",
   "metadata": {},
   "source": [
    "## Fill the blanks for rest of the categories with \"Undefined\""
   ]
  },
  {
   "cell_type": "code",
   "execution_count": 210,
   "metadata": {},
   "outputs": [],
   "source": [
    "report_mod['LatestWorksCost'].fillna(value = '0', inplace = True)\n",
    "report_mod.fillna(value = 'Undefined', inplace = True)"
   ]
  },
  {
   "cell_type": "code",
   "execution_count": 211,
   "metadata": {},
   "outputs": [],
   "source": [
    "#Use this to filter a specific value within a column\n",
    "#report_mod.loc[report_mod['BudgetCode'] == 'ITP'].head(5)"
   ]
  },
  {
   "cell_type": "markdown",
   "metadata": {},
   "source": [
    "### Save to a new CSV file "
   ]
  },
  {
   "cell_type": "code",
   "execution_count": 212,
   "metadata": {},
   "outputs": [],
   "source": [
    "report_mod.to_csv(r'C:\\Users\\J FernandezGomez\\Jupyter Notebooks\\Cleaning_Data_Notebooks\\1_PMNET_IWReport\\PMNET_processed_v2.csv')"
   ]
  }
 ],
 "metadata": {
  "kernelspec": {
   "display_name": "Python 3",
   "language": "python",
   "name": "python3"
  },
  "language_info": {
   "codemirror_mode": {
    "name": "ipython",
    "version": 3
   },
   "file_extension": ".py",
   "mimetype": "text/x-python",
   "name": "python",
   "nbconvert_exporter": "python",
   "pygments_lexer": "ipython3",
   "version": "3.7.4"
  }
 },
 "nbformat": 4,
 "nbformat_minor": 2
}
